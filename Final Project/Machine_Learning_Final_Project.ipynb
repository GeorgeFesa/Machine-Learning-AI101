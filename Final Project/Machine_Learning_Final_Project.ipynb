{
  "nbformat": 4,
  "nbformat_minor": 0,
  "metadata": {
    "colab": {
      "provenance": [],
      "collapsed_sections": [
        "T3NQfowTEA3H",
        "d4AqziGFFgc5",
        "ylOxEUmhF163",
        "MOetcrHc-Ko-",
        "lQKoiT_mJ9hl",
        "FBG7zjQ033w-",
        "PWEkyIkKgXkn",
        "p9inCgVNy2WA",
        "usonTGcH82rY",
        "zD8tZncCrkAm",
        "QJot48OBVs9R",
        "XbXZbVY8a8Jx",
        "manJ-WZgb-EL",
        "iz-aqYcTZTDx",
        "1f8-410eLFoN",
        "WrkGQn517E44",
        "LBeQT8pLomZw",
        "oGr35k_190Mw",
        "MCQiisFbtuLU",
        "zOpjoD9yuPOV",
        "XECSr7kuJ44R"
      ],
      "toc_visible": true
    },
    "kernelspec": {
      "name": "python3",
      "display_name": "Python 3"
    },
    "language_info": {
      "name": "python"
    }
  },
  "cells": [
    {
      "cell_type": "markdown",
      "source": [
        "# Final Project 2023-2024 - Rock-Paper-Scissors Agent\n",
        "\n",
        "Author: Georgios Fesatidis \\\n",
        "Email: gfesa@csd.auth.gr \\"
      ],
      "metadata": {
        "id": "DOOWwMiYEv4O"
      }
    },
    {
      "cell_type": "markdown",
      "source": [
        "# Setup Environment"
      ],
      "metadata": {
        "id": "T3NQfowTEA3H"
      }
    },
    {
      "cell_type": "markdown",
      "source": [
        "## Download Dataset from Kaggle"
      ],
      "metadata": {
        "id": "d4AqziGFFgc5"
      }
    },
    {
      "cell_type": "code",
      "source": [
        "from google.colab import drive\n",
        "drive.mount('/content/drive')"
      ],
      "metadata": {
        "colab": {
          "base_uri": "https://localhost:8080/"
        },
        "id": "C1Nc6Amc46Ih",
        "outputId": "32d43fb4-059b-442e-bf29-23063a5d50c5"
      },
      "execution_count": 1,
      "outputs": [
        {
          "output_type": "stream",
          "name": "stdout",
          "text": [
            "Mounted at /content/drive\n"
          ]
        }
      ]
    },
    {
      "cell_type": "code",
      "source": [
        "!mkdir -p ~/.kaggle\n",
        "!cp ./drive/MyDrive/kaggle/kaggle.json ~/.kaggle/\n",
        "\n",
        "drive.flush_and_unmount()"
      ],
      "metadata": {
        "id": "ptwuaMQr6AIq"
      },
      "execution_count": 2,
      "outputs": []
    },
    {
      "cell_type": "code",
      "source": [
        "import kaggle\n",
        "\n",
        "!mkdir -p rockpaperscissors\n",
        "!kaggle datasets download -p rockpaperscissors --unzip drgfreeman/rockpaperscissors\n",
        "!rm -rf rockpaperscissors/rps-cv-images rockpaperscissors/README_rpc-cv-images.txt"
      ],
      "metadata": {
        "colab": {
          "base_uri": "https://localhost:8080/"
        },
        "id": "A-Or9CuxGLuD",
        "outputId": "ddf8961e-6164-4fc9-c732-7a3417a0c732"
      },
      "execution_count": 3,
      "outputs": [
        {
          "output_type": "stream",
          "name": "stdout",
          "text": [
            "Downloading rockpaperscissors.zip to rockpaperscissors\n",
            " 97% 298M/306M [00:03<00:00, 109MB/s]\n",
            "100% 306M/306M [00:03<00:00, 96.9MB/s]\n"
          ]
        }
      ]
    },
    {
      "cell_type": "markdown",
      "source": [
        "## Install Libraries"
      ],
      "metadata": {
        "id": "ylOxEUmhF163"
      }
    },
    {
      "cell_type": "code",
      "source": [
        "!pip install gymnasium"
      ],
      "metadata": {
        "colab": {
          "base_uri": "https://localhost:8080/"
        },
        "id": "nDUJCv4MUZuN",
        "outputId": "e032f40b-a180-4f25-80b4-b780bf176d2c"
      },
      "execution_count": 4,
      "outputs": [
        {
          "output_type": "stream",
          "name": "stdout",
          "text": [
            "Collecting gymnasium\n",
            "  Downloading gymnasium-0.29.1-py3-none-any.whl (953 kB)\n",
            "\u001b[?25l     \u001b[90m━━━━━━━━━━━━━━━━━━━━━━━━━━━━━━━━━━━━━━━━\u001b[0m \u001b[32m0.0/953.9 kB\u001b[0m \u001b[31m?\u001b[0m eta \u001b[36m-:--:--\u001b[0m\r\u001b[2K     \u001b[91m━━━━━━━\u001b[0m\u001b[90m╺\u001b[0m\u001b[90m━━━━━━━━━━━━━━━━━━━━━━━━━━━━━━━━\u001b[0m \u001b[32m174.1/953.9 kB\u001b[0m \u001b[31m5.0 MB/s\u001b[0m eta \u001b[36m0:00:01\u001b[0m\r\u001b[2K     \u001b[91m━━━━━━━━━━━━━━━━━━━━━━━━━━━━━━━━━━━━━━━\u001b[0m\u001b[91m╸\u001b[0m \u001b[32m952.3/953.9 kB\u001b[0m \u001b[31m16.1 MB/s\u001b[0m eta \u001b[36m0:00:01\u001b[0m\r\u001b[2K     \u001b[90m━━━━━━━━━━━━━━━━━━━━━━━━━━━━━━━━━━━━━━━━\u001b[0m \u001b[32m953.9/953.9 kB\u001b[0m \u001b[31m12.7 MB/s\u001b[0m eta \u001b[36m0:00:00\u001b[0m\n",
            "\u001b[?25hRequirement already satisfied: numpy>=1.21.0 in /usr/local/lib/python3.10/dist-packages (from gymnasium) (1.23.5)\n",
            "Requirement already satisfied: cloudpickle>=1.2.0 in /usr/local/lib/python3.10/dist-packages (from gymnasium) (2.2.1)\n",
            "Requirement already satisfied: typing-extensions>=4.3.0 in /usr/local/lib/python3.10/dist-packages (from gymnasium) (4.5.0)\n",
            "Collecting farama-notifications>=0.0.1 (from gymnasium)\n",
            "  Downloading Farama_Notifications-0.0.4-py3-none-any.whl (2.5 kB)\n",
            "Installing collected packages: farama-notifications, gymnasium\n",
            "Successfully installed farama-notifications-0.0.4 gymnasium-0.29.1\n"
          ]
        }
      ]
    },
    {
      "cell_type": "markdown",
      "source": [
        "## Import Libraries"
      ],
      "metadata": {
        "id": "MOetcrHc-Ko-"
      }
    },
    {
      "cell_type": "code",
      "source": [
        "import pathlib\n",
        "\n",
        "from typing import Protocol\n",
        "from enum import Enum\n",
        "\n",
        "from google.colab import files\n",
        "\n",
        "import matplotlib.pyplot as plt\n",
        "import matplotlib\n",
        "import gymnasium as gym\n",
        "import seaborn as sns\n",
        "import numpy as np\n",
        "import keras\n",
        "import sklearn\n",
        "import tensorflow as tf\n",
        "\n",
        "from keras import layers\n",
        "from sklearn.metrics import confusion_matrix\n",
        "from gym.envs.registration import register\n",
        "from gym import spaces"
      ],
      "metadata": {
        "id": "goqQB0vN-vqP"
      },
      "execution_count": 30,
      "outputs": []
    },
    {
      "cell_type": "code",
      "source": [
        "!python -V\n",
        "\n",
        "print(f'tensorflow: {tf.__version__}')\n",
        "print(f'keras: {keras.__version__}')\n",
        "print(f'gymnasium: {gym.__version__}')\n",
        "print(f'matplotlib: {matplotlib.__version__}')\n",
        "print(f'seaborn: {sns.__version__}')\n",
        "print(f'numpy: {np.__version__}')\n",
        "print(f'scikit-learn: {sklearn.__version__}')"
      ],
      "metadata": {
        "colab": {
          "base_uri": "https://localhost:8080/"
        },
        "id": "N8lbgs4c7RG2",
        "outputId": "47d3a2fd-6fba-47e5-dbea-590ce2230381"
      },
      "execution_count": 35,
      "outputs": [
        {
          "output_type": "stream",
          "name": "stdout",
          "text": [
            "Python 3.10.12\n",
            "tensorflow: 2.15.0\n",
            "keras: 2.15.0\n",
            "gymnasium: 0.29.1\n",
            "matplotlib: 3.7.1\n",
            "seaborn: 0.13.1\n",
            "numpy: 1.23.5\n",
            "scikit-learn: 1.2.2\n"
          ]
        }
      ]
    },
    {
      "cell_type": "markdown",
      "source": [
        "## Assign Variables"
      ],
      "metadata": {
        "id": "lQKoiT_mJ9hl"
      }
    },
    {
      "cell_type": "code",
      "source": [
        "rng = np.random.default_rng()\n",
        "seed = 47\n",
        "\n",
        "img_width = 32\n",
        "img_height = 32\n",
        "img_channels = 3"
      ],
      "metadata": {
        "id": "tTo3BuHPKEAt",
        "colab": {
          "base_uri": "https://localhost:8080/"
        },
        "outputId": "fbe67e24-26bb-4b0a-c952-0d474537f3c1"
      },
      "execution_count": null,
      "outputs": [
        {
          "output_type": "stream",
          "name": "stderr",
          "text": [
            "/usr/local/lib/python3.10/dist-packages/ipykernel/ipkernel.py:283: DeprecationWarning: `should_run_async` will not call `transform_cell` automatically in the future. Please pass the result to `transformed_cell` argument and any exception that happen during thetransform in `preprocessing_exc_tuple` in IPython 7.17 and above.\n",
            "  and should_run_async(code)\n"
          ]
        }
      ]
    },
    {
      "cell_type": "markdown",
      "source": [
        "## Laod Dataset"
      ],
      "metadata": {
        "id": "FBG7zjQ033w-"
      }
    },
    {
      "cell_type": "code",
      "source": [
        "dataset_path = pathlib.Path('rockpaperscissors')\n",
        "dataset_path"
      ],
      "metadata": {
        "colab": {
          "base_uri": "https://localhost:8080/"
        },
        "id": "yyoROTip36iJ",
        "outputId": "b774e25d-31ad-4017-9622-76b7bef4296e"
      },
      "execution_count": null,
      "outputs": [
        {
          "output_type": "execute_result",
          "data": {
            "text/plain": [
              "PosixPath('rockpaperscissors')"
            ]
          },
          "metadata": {},
          "execution_count": 7
        }
      ]
    },
    {
      "cell_type": "code",
      "source": [
        "train_ds, val_ds = keras.utils.image_dataset_from_directory(dataset_path, image_size=(img_width, img_height), validation_split=0.3, subset='both', crop_to_aspect_ratio=True, seed=seed)"
      ],
      "metadata": {
        "colab": {
          "base_uri": "https://localhost:8080/"
        },
        "id": "ebPWeedYE-ZG",
        "outputId": "aa1e4d75-4048-44dc-c458-fbd6d2239832"
      },
      "execution_count": null,
      "outputs": [
        {
          "output_type": "stream",
          "name": "stdout",
          "text": [
            "Found 2188 files belonging to 3 classes.\n",
            "Using 1532 files for training.\n",
            "Using 656 files for validation.\n"
          ]
        }
      ]
    },
    {
      "cell_type": "markdown",
      "source": [
        "## Define Classes"
      ],
      "metadata": {
        "id": "PWEkyIkKgXkn"
      }
    },
    {
      "cell_type": "code",
      "source": [
        "class RockPaperScissorsModel(Protocol):\n",
        "    '''\n",
        "    Protocol defining the common interface for Rock-Paper-Scissors image classification models.\n",
        "    '''\n",
        "    best_actions: dict\n",
        "\n",
        "    def __init__(self) -> None:\n",
        "        ...\n",
        "\n",
        "    def call(self, inputs: np.ndarray) -> layers.Dense:\n",
        "        ...\n",
        "\n",
        "class RPS(Enum):\n",
        "    PAPER = 0\n",
        "    ROCK = 1\n",
        "    SCISSORS = 2"
      ],
      "metadata": {
        "id": "C62CZ_Ckgb98"
      },
      "execution_count": null,
      "outputs": []
    },
    {
      "cell_type": "markdown",
      "source": [
        "## Define Functions"
      ],
      "metadata": {
        "id": "p9inCgVNy2WA"
      }
    },
    {
      "cell_type": "code",
      "source": [
        "def get_image_path(action: int) -> pathlib.Path:\n",
        "    class_directory = train_ds.class_names[action]\n",
        "    class_path = dataset_path / class_directory\n",
        "    images = list(class_path.glob('*.png'))\n",
        "\n",
        "    return rng.choice(images)\n",
        "\n",
        "def add_noise(image: np.ndarray) -> np.ndarray:\n",
        "    # Calculate the standard deviation based on 5% of the maximum pixel value\n",
        "    max_pixel_value = np.max(image)\n",
        "    noise_std_dev = 0.05 * max_pixel_value\n",
        "\n",
        "    noise = rng.normal(scale=noise_std_dev, size=image.shape)\n",
        "    noisy_image = image + noise\n",
        "\n",
        "    # Clip values to ensure they stay within the valid pixel value range\n",
        "    noisy_image = np.clip(noisy_image, 0, 1)\n",
        "\n",
        "    return noisy_image\n",
        "\n",
        "def random_flip(image: np.ndarray) -> np.ndarray:\n",
        "    if rng.random() > 0.5:\n",
        "        image = np.flipud(image)\n",
        "    if rng.random() > 0.5:\n",
        "        image = np.fliplr(image)\n",
        "\n",
        "    return image\n",
        "\n",
        "def preprocess_image(image: np.ndarray) -> np.ndarray:\n",
        "    image_arr = keras.utils.img_to_array(image)\n",
        "    image_arr = keras.layers.Resizing(32, 32, crop_to_aspect_ratio=True)(image_arr)\n",
        "    image_arr = layers.Rescaling(scale=1./255)(image_arr)\n",
        "    # Convert single image to a batch.\n",
        "    image_arr = np.array([image_arr])\n",
        "\n",
        "    return image_arr\n",
        "\n",
        "def start_simulation(model: RockPaperScissorsModel) -> tuple[list[int], list[int]]:\n",
        "    env = RockPaperScissorsEnv()\n",
        "\n",
        "    true_labels = []\n",
        "    predicted_labels = []\n",
        "\n",
        "    for _ in range(env.max_episodes):\n",
        "        observation = env.reset()\n",
        "        action = model.predict(observation)\n",
        "        action_idx = action.argmax()\n",
        "\n",
        "        true_labels.append(env.state)\n",
        "        predicted_labels.append(action_idx)\n",
        "\n",
        "        best_action = model.best_actions[action_idx]\n",
        "        observation, reward = env.step(best_action)\n",
        "\n",
        "    return true_labels, predicted_labels, env"
      ],
      "metadata": {
        "id": "iZbNEn1Iy5WL"
      },
      "execution_count": null,
      "outputs": []
    },
    {
      "cell_type": "markdown",
      "source": [
        "# Dataset Analysis"
      ],
      "metadata": {
        "id": "usonTGcH82rY"
      }
    },
    {
      "cell_type": "code",
      "source": [
        "counts = [len(list(dataset_path.glob(f'{class_name}/*'))) for class_name in train_ds.class_names]\n",
        "print(f'Total number of images: {sum(counts)}')"
      ],
      "metadata": {
        "id": "b0YyshRevTwS",
        "colab": {
          "base_uri": "https://localhost:8080/"
        },
        "outputId": "63630e76-3636-4b4e-e9e7-b91e808c6c67"
      },
      "execution_count": null,
      "outputs": [
        {
          "output_type": "stream",
          "name": "stdout",
          "text": [
            "Total number of images: 2188\n"
          ]
        }
      ]
    },
    {
      "cell_type": "markdown",
      "source": [
        "The dataset is imbalanced, with the dominant class being scissors. While there isn't a significant difference in the examples between the classes, techniques like data augmentation could be employed to balance them. However, for testing purposes, we will proceed without any conversion."
      ],
      "metadata": {
        "id": "GPcAb25shTH9"
      }
    },
    {
      "cell_type": "code",
      "source": [
        "sns.set(style=\"whitegrid\")\n",
        "\n",
        "ax = sns.barplot(x=train_ds.class_names, y=counts)\n",
        "for i, count in enumerate(counts):\n",
        "    ax.text(i, count + 0.1, count, ha='center', va='bottom')\n",
        "ax.set_title('Distribution of Images')\n",
        "plt.show()"
      ],
      "metadata": {
        "colab": {
          "base_uri": "https://localhost:8080/",
          "height": 457
        },
        "id": "oKISpRjet8ed",
        "outputId": "9dd4a909-7930-495e-d7c6-872ed2deaa43"
      },
      "execution_count": null,
      "outputs": [
        {
          "output_type": "display_data",
          "data": {
            "text/plain": [
              "<Figure size 640x480 with 1 Axes>"
            ],
            "image/png": "[encoded data removed]"
          },
          "metadata": {}
        }
      ]
    },
    {
      "cell_type": "markdown",
      "source": [
        "Sample images from the dataset."
      ],
      "metadata": {
        "id": "l5xa2i6Yrbjq"
      }
    },
    {
      "cell_type": "code",
      "source": [
        "plt.figure(figsize=(10, 10))\n",
        "for images, labels in train_ds.take(1):\n",
        "    for i in range(9):\n",
        "        ax = plt.subplot(3, 3, i + 1)\n",
        "        plt.imshow(np.array(images[i]).astype(\"uint8\"))\n",
        "        plt.title(train_ds.class_names[labels[i]])\n",
        "        plt.axis(\"off\")"
      ],
      "metadata": {
        "id": "yPW2OE2EeN6s",
        "colab": {
          "base_uri": "https://localhost:8080/",
          "height": 829
        },
        "outputId": "08e7d03e-6345-4e04-bebe-e24cb2ff1f36"
      },
      "execution_count": null,
      "outputs": [
        {
          "output_type": "display_data",
          "data": {
            "text/plain": [
              "<Figure size 1000x1000 with 9 Axes>"
            ],
            "image/png": "[encoded data removed]"
          },
          "metadata": {}
        }
      ]
    },
    {
      "cell_type": "markdown",
      "source": [
        "# Rock-Scissors-Paper Models\n",
        "\n",
        "The Rock-Paper-Scissors image classification task will be addressed using two distinct neural network architectures. The first model, a Convolutional Neural Network (CNN), leverages convolutional and pooling layers to automatically learn hierarchical features from the input images. The second model, a Feedforward Neural Network (MLP), employs fully connected layers for feature representation. Both models are designed to classify images into one of three classes: Rock, Paper, or Scissors, based on the iconic hand game."
      ],
      "metadata": {
        "id": "zD8tZncCrkAm"
      }
    },
    {
      "cell_type": "markdown",
      "source": [
        "## Feedforward Neural Network"
      ],
      "metadata": {
        "id": "QJot48OBVs9R"
      }
    },
    {
      "cell_type": "code",
      "source": [
        "class RockPaperScissorsFeedforwardModel(keras.Model):\n",
        "    '''\n",
        "    Feedforward Neural Network for Rock-Paper-Scissors Image Classification.\n",
        "\n",
        "    This model is designed to classify images into one of three classes: Rock, Paper, or Scissors,\n",
        "    based on the popular hand game. It follows a feedforward neural network (MLP) architecture.\n",
        "\n",
        "    Attributes:\n",
        "        preprocessing (tf.keras.layers.experimental.preprocessing.Rescaling): Normalization layer\n",
        "            for rescaling input pixel values.\n",
        "        flatten (tf.keras.layers.Flatten): Flatten layer to convert 2D feature maps to a 1D vector.\n",
        "        dense1 (tf.keras.layers.Dense): First fully connected layer with 128 units and ReLU activation.\n",
        "        dense2 (tf.keras.layers.Dense): Second fully connected layer with 64 units and ReLU activation.\n",
        "        output_layer (tf.keras.layers.Dense): Output layer with 3 units for Rock, Paper, and Scissors,\n",
        "            using softmax activation for multi-class classification.\n",
        "\n",
        "    Methods:\n",
        "        call(inputs): Defines the forward pass of the model.\n",
        "\n",
        "    Example:\n",
        "        # Instantiate the feedforward model\n",
        "        feedforward_model = RockPaperScissorsFeedforwardModel()\n",
        "\n",
        "        # Compile the model\n",
        "        feedforward_model.compile(optimizer='adam',\n",
        "                                  loss='sparse_categorical_crossentropy',\n",
        "                                  metrics=['accuracy'])\n",
        "\n",
        "        # Display the model summary\n",
        "        feedforward_model.build((None, 64, 64, 3))  # Specify input shape\n",
        "        feedforward_model.summary()\n",
        "\n",
        "        # Train the model\n",
        "        feedforward_model.fit(train_ds, epochs=10, validation_data=val_ds)\n",
        "    '''\n",
        "\n",
        "    def __init__(self) -> None:\n",
        "        super().__init__()\n",
        "\n",
        "        self.best_actions = {\n",
        "            RPS.PAPER.value: RPS.SCISSORS.value,\n",
        "            RPS.ROCK.value: RPS.PAPER.value,\n",
        "            RPS.SCISSORS.value: RPS.ROCK.value\n",
        "        }\n",
        "\n",
        "        self.preprocessing = layers.experimental.preprocessing.Rescaling(scale=1/255)\n",
        "        self.flatten = layers.Flatten()\n",
        "        self.dense1 = layers.Dense(128, activation='relu')\n",
        "        self.dense2 = layers.Dense(64, activation='relu')\n",
        "        self.output_layer = layers.Dense(3, activation='softmax')\n",
        "\n",
        "    def call(self, inputs: np.ndarray) -> layers.Dense:\n",
        "        x = self.flatten(inputs)\n",
        "        x = self.dense1(x)\n",
        "        x = self.dense2(x)\n",
        "        return self.output_layer(x)"
      ],
      "metadata": {
        "id": "6Gnxl45cVwEC"
      },
      "execution_count": null,
      "outputs": []
    },
    {
      "cell_type": "code",
      "source": [
        "feedforward_model = RockPaperScissorsFeedforwardModel()\n",
        "feedforward_model.compile(optimizer='adam',\n",
        "                          loss='sparse_categorical_crossentropy',\n",
        "                          metrics=['accuracy'])\n",
        "feedforward_model.build(input_shape=(None, img_width, img_height, img_channels))"
      ],
      "metadata": {
        "id": "62Eg0gC4aa7w"
      },
      "execution_count": null,
      "outputs": []
    },
    {
      "cell_type": "markdown",
      "source": [
        "### Architecture"
      ],
      "metadata": {
        "id": "XbXZbVY8a8Jx"
      }
    },
    {
      "cell_type": "code",
      "source": [
        "feedforward_model.summary()"
      ],
      "metadata": {
        "colab": {
          "base_uri": "https://localhost:8080/"
        },
        "outputId": "385d0cf8-30b8-4e08-8917-1e6fa1f1e58e",
        "id": "fe7R9TW6a8J9"
      },
      "execution_count": null,
      "outputs": [
        {
          "output_type": "stream",
          "name": "stdout",
          "text": [
            "Model: \"rock_paper_scissors_feedforward_model\"\n",
            "_________________________________________________________________\n",
            " Layer (type)                Output Shape              Param #   \n",
            "=================================================================\n",
            " rescaling (Rescaling)       multiple                  0 (unused)\n",
            "                                                                 \n",
            " flatten (Flatten)           multiple                  0         \n",
            "                                                                 \n",
            " dense (Dense)               multiple                  393344    \n",
            "                                                                 \n",
            " dense_1 (Dense)             multiple                  8256      \n",
            "                                                                 \n",
            " dense_2 (Dense)             multiple                  195       \n",
            "                                                                 \n",
            "=================================================================\n",
            "Total params: 401795 (1.53 MB)\n",
            "Trainable params: 401795 (1.53 MB)\n",
            "Non-trainable params: 0 (0.00 Byte)\n",
            "_________________________________________________________________\n"
          ]
        }
      ]
    },
    {
      "cell_type": "markdown",
      "source": [
        "### Training"
      ],
      "metadata": {
        "id": "manJ-WZgb-EL"
      }
    },
    {
      "cell_type": "code",
      "source": [
        "history = feedforward_model.fit(train_ds, validation_data=val_ds, epochs=20)"
      ],
      "metadata": {
        "colab": {
          "base_uri": "https://localhost:8080/"
        },
        "outputId": "bedfd8e7-466a-4fde-fe49-d096ba693bd1",
        "id": "QNeCEn_Gb-EL"
      },
      "execution_count": null,
      "outputs": [
        {
          "output_type": "stream",
          "name": "stdout",
          "text": [
            "Epoch 1/20\n",
            "48/48 [==============================] - 10s 147ms/step - loss: 96.9562 - accuracy: 0.5059 - val_loss: 6.9288 - val_accuracy: 0.7317\n",
            "Epoch 2/20\n",
            "48/48 [==============================] - 5s 74ms/step - loss: 7.5031 - accuracy: 0.7004 - val_loss: 7.1737 - val_accuracy: 0.6814\n",
            "Epoch 3/20\n",
            "48/48 [==============================] - 5s 107ms/step - loss: 6.1958 - accuracy: 0.7493 - val_loss: 5.2282 - val_accuracy: 0.7012\n",
            "Epoch 4/20\n",
            "48/48 [==============================] - 4s 67ms/step - loss: 4.2885 - accuracy: 0.7892 - val_loss: 5.6928 - val_accuracy: 0.7622\n",
            "Epoch 5/20\n",
            "48/48 [==============================] - 4s 73ms/step - loss: 10.6937 - accuracy: 0.7037 - val_loss: 3.9740 - val_accuracy: 0.8506\n",
            "Epoch 6/20\n",
            "48/48 [==============================] - 5s 89ms/step - loss: 4.3369 - accuracy: 0.8087 - val_loss: 4.5064 - val_accuracy: 0.8171\n",
            "Epoch 7/20\n",
            "48/48 [==============================] - 4s 67ms/step - loss: 1.8804 - accuracy: 0.8916 - val_loss: 2.9179 - val_accuracy: 0.8476\n",
            "Epoch 8/20\n",
            "48/48 [==============================] - 4s 73ms/step - loss: 2.3916 - accuracy: 0.8479 - val_loss: 2.3277 - val_accuracy: 0.8704\n",
            "Epoch 9/20\n",
            "48/48 [==============================] - 4s 76ms/step - loss: 1.5797 - accuracy: 0.8877 - val_loss: 3.1485 - val_accuracy: 0.8201\n",
            "Epoch 10/20\n",
            "48/48 [==============================] - 4s 73ms/step - loss: 2.9531 - accuracy: 0.8414 - val_loss: 12.9256 - val_accuracy: 0.5610\n",
            "Epoch 11/20\n",
            "48/48 [==============================] - 5s 89ms/step - loss: 9.3762 - accuracy: 0.6939 - val_loss: 4.6835 - val_accuracy: 0.8293\n",
            "Epoch 12/20\n",
            "48/48 [==============================] - 4s 73ms/step - loss: 3.1056 - accuracy: 0.8401 - val_loss: 4.0584 - val_accuracy: 0.7988\n",
            "Epoch 13/20\n",
            "48/48 [==============================] - 4s 73ms/step - loss: 1.6846 - accuracy: 0.8884 - val_loss: 2.8500 - val_accuracy: 0.8476\n",
            "Epoch 14/20\n",
            "48/48 [==============================] - 5s 96ms/step - loss: 1.3242 - accuracy: 0.8962 - val_loss: 2.0455 - val_accuracy: 0.8826\n",
            "Epoch 15/20\n",
            "48/48 [==============================] - 4s 73ms/step - loss: 1.0060 - accuracy: 0.9164 - val_loss: 1.5172 - val_accuracy: 0.9024\n",
            "Epoch 16/20\n",
            "48/48 [==============================] - 5s 101ms/step - loss: 1.2763 - accuracy: 0.8969 - val_loss: 1.6841 - val_accuracy: 0.8979\n",
            "Epoch 17/20\n",
            "48/48 [==============================] - 4s 73ms/step - loss: 0.9666 - accuracy: 0.9086 - val_loss: 2.5894 - val_accuracy: 0.8338\n",
            "Epoch 18/20\n",
            "48/48 [==============================] - 4s 67ms/step - loss: 1.8698 - accuracy: 0.8564 - val_loss: 2.1529 - val_accuracy: 0.8613\n",
            "Epoch 19/20\n",
            "48/48 [==============================] - 6s 111ms/step - loss: 1.1857 - accuracy: 0.8832 - val_loss: 2.7601 - val_accuracy: 0.7927\n",
            "Epoch 20/20\n",
            "48/48 [==============================] - 4s 75ms/step - loss: 0.5852 - accuracy: 0.9354 - val_loss: 1.4191 - val_accuracy: 0.8735\n"
          ]
        }
      ]
    },
    {
      "cell_type": "markdown",
      "source": [
        "1. **Loss:**\n",
        "   - The training loss is decreasing over epochs, which is a positive sign, indicating that the model is learning from the training data.\n",
        "   - The validation loss also shows a decreasing trend initially but starts to increase again after a certain point. This could be a sign of overfitting, where the model is fitting the training data too closely and may not generalize well to new, unseen data.\n",
        "\n",
        "2. **Accuracy:**\n",
        "   - The training accuracy is gradually increasing, indicating that the model is becoming better at predicting the training data.\n",
        "   - The validation accuracy is also increasing initially but plateaus and even decreases towards the later epochs. This is another indication of potential overfitting.\n",
        "\n",
        "3. **Observations:**\n",
        "   - The model seems to perform well on the training set, achieving high accuracy and low loss.\n",
        "   - However, there are signs of overfitting as the validation accuracy does not follow the same positive trend, and the validation loss starts to increase.\n",
        "   - The difference between training and validation performance suggests that the model might benefit from regularization techniques to improve generalization.\n",
        "\n",
        "4. **Specific Epochs:**\n",
        "   - Notably, the validation accuracy peaks around epoch 15 and starts declining afterward, while the training accuracy continues to improve. This is a classic sign of overfitting.\n",
        "   - The validation loss is at its minimum around epoch 14 but increases in subsequent epochs."
      ],
      "metadata": {
        "id": "lXfqKJVHoCG3"
      }
    },
    {
      "cell_type": "code",
      "source": [
        "plt.figure(figsize=(12, 6))\n",
        "\n",
        "# Plot training & validation accuracy values\n",
        "plt.subplot(1, 2, 1)\n",
        "plt.plot(history.history['accuracy'])\n",
        "plt.plot(history.history['val_accuracy'])\n",
        "plt.title('Model accuracy')\n",
        "plt.xlabel('Epoch')\n",
        "plt.ylabel('Accuracy')\n",
        "plt.legend(['Train', 'Validation'], loc='upper left')\n",
        "\n",
        "# Plot training & validation loss values\n",
        "plt.subplot(1, 2, 2)\n",
        "plt.plot(history.history['loss'])\n",
        "plt.plot(history.history['val_loss'])\n",
        "plt.title('Model loss')\n",
        "plt.xlabel('Epoch')\n",
        "plt.ylabel('Loss')\n",
        "plt.legend(['Train', 'Validation'], loc='upper left')\n",
        "\n",
        "plt.show()"
      ],
      "metadata": {
        "colab": {
          "base_uri": "https://localhost:8080/",
          "height": 573
        },
        "outputId": "34b67435-b96a-4580-be3f-3f298ca4ee52",
        "id": "cmW405dqb-EM"
      },
      "execution_count": null,
      "outputs": [
        {
          "output_type": "display_data",
          "data": {
            "text/plain": [
              "<Figure size 1200x600 with 2 Axes>"
            ],
            "image/png": "[encoded data removed]"
          },
          "metadata": {}
        }
      ]
    },
    {
      "cell_type": "markdown",
      "source": [
        "## Convolutional Neural Network"
      ],
      "metadata": {
        "id": "iz-aqYcTZTDx"
      }
    },
    {
      "cell_type": "code",
      "source": [
        "class RockPaperScissorsCNNModel(keras.Model):\n",
        "    '''\n",
        "    Convolutional Neural Network for Rock-Paper-Scissors Image Classification.\n",
        "\n",
        "    This model is designed to classify images into one of three classes: Rock, Paper, or Scissors,\n",
        "    based on the popular hand game. It follows a simple CNN architecture for image classification.\n",
        "\n",
        "    Attributes:\n",
        "        preprocessing (tf.keras.layers.Rescaling): Normalization layer for rescaling input pixel values.\n",
        "        conv1 (tf.keras.layers.Conv2D): First convolutional layer with 32 filters and ReLU activation.\n",
        "        maxpool1 (tf.keras.layers.MaxPooling2D): First max pooling layer with 2x2 pool size.\n",
        "        conv2 (tf.keras.layers.Conv2D): Second convolutional layer with 64 filters and ReLU activation.\n",
        "        maxpool2 (tf.keras.layers.MaxPooling2D): Second max pooling layer with 2x2 pool size.\n",
        "        flatten (tf.keras.layers.Flatten): Flatten layer to convert 2D feature maps to a 1D vector.\n",
        "        dense1 (tf.keras.layers.Dense): Fully connected layer with 128 units and ReLU activation.\n",
        "        output_layer (tf.keras.layers.Dense): Output layer with 3 units for Rock, Paper, and Scissors,\n",
        "                                              using softmax activation for multi-class classification.\n",
        "\n",
        "    Methods:\n",
        "        call(inputs): Defines the forward pass of the model.\n",
        "\n",
        "    Example:\n",
        "        model = RockPaperScissorsModel()\n",
        "        model.compile(optimizer='adam', loss='sparse_categorical_crossentropy', metrics=['accuracy'])\n",
        "        model.fit(train_ds, epochs=10, validation_data=val_ds)\n",
        "    '''\n",
        "\n",
        "    def __init__(self) -> None:\n",
        "        super().__init__()\n",
        "\n",
        "        self.best_actions = {\n",
        "            RPS.PAPER.value: RPS.SCISSORS.value,\n",
        "            RPS.ROCK.value: RPS.PAPER.value,\n",
        "            RPS.SCISSORS.value: RPS.ROCK.value\n",
        "        }\n",
        "\n",
        "        self.preprocessing = layers.Rescaling(scale=1/255)\n",
        "        self.conv1 = layers.Conv2D(32, (3, 3), activation='relu')\n",
        "        self.maxpool1 = layers.MaxPooling2D((2, 2))\n",
        "        self.conv2 = layers.Conv2D(64, (3, 3), activation='relu')\n",
        "        self.maxpool2 = layers.MaxPooling2D((2, 2))\n",
        "        self.flatten = layers.Flatten()\n",
        "        self.dense1 = layers.Dense(128, activation='relu')\n",
        "        self.output_layer = layers.Dense(3, activation='softmax')\n",
        "\n",
        "    def call(self, inputs: np.ndarray) -> layers.Dense:\n",
        "        x = self.conv1(inputs)\n",
        "        x = self.maxpool1(x)\n",
        "        x = self.conv2(x)\n",
        "        x = self.maxpool2(x)\n",
        "        x = self.flatten(x)\n",
        "        x = self.dense1(x)\n",
        "        return self.output_layer(x)"
      ],
      "metadata": {
        "id": "P5UqAIkvrqzk"
      },
      "execution_count": null,
      "outputs": []
    },
    {
      "cell_type": "code",
      "source": [
        "cnn_model = RockPaperScissorsCNNModel()\n",
        "cnn_model.compile(optimizer='adam',\n",
        "              loss='sparse_categorical_crossentropy',\n",
        "              metrics=['accuracy'])\n",
        "cnn_model.build(input_shape=(None, img_width, img_height, img_channels))"
      ],
      "metadata": {
        "id": "e5ykN6Ny0I6r"
      },
      "execution_count": null,
      "outputs": []
    },
    {
      "cell_type": "markdown",
      "source": [
        "### Architecture"
      ],
      "metadata": {
        "id": "1f8-410eLFoN"
      }
    },
    {
      "cell_type": "code",
      "source": [
        "cnn_model.summary()"
      ],
      "metadata": {
        "colab": {
          "base_uri": "https://localhost:8080/"
        },
        "id": "bZ2pOImPOTuf",
        "outputId": "6e64c6ae-ca2a-461a-8d69-f62135bffa76"
      },
      "execution_count": null,
      "outputs": [
        {
          "output_type": "stream",
          "name": "stdout",
          "text": [
            "Model: \"rock_paper_scissors_cnn_model\"\n",
            "_________________________________________________________________\n",
            " Layer (type)                Output Shape              Param #   \n",
            "=================================================================\n",
            " rescaling_1 (Rescaling)     multiple                  0 (unused)\n",
            "                                                                 \n",
            " conv2d (Conv2D)             multiple                  896       \n",
            "                                                                 \n",
            " max_pooling2d (MaxPooling2  multiple                  0         \n",
            " D)                                                              \n",
            "                                                                 \n",
            " conv2d_1 (Conv2D)           multiple                  18496     \n",
            "                                                                 \n",
            " max_pooling2d_1 (MaxPoolin  multiple                  0         \n",
            " g2D)                                                            \n",
            "                                                                 \n",
            " flatten_1 (Flatten)         multiple                  0         \n",
            "                                                                 \n",
            " dense_3 (Dense)             multiple                  295040    \n",
            "                                                                 \n",
            " dense_4 (Dense)             multiple                  387       \n",
            "                                                                 \n",
            "=================================================================\n",
            "Total params: 314819 (1.20 MB)\n",
            "Trainable params: 314819 (1.20 MB)\n",
            "Non-trainable params: 0 (0.00 Byte)\n",
            "_________________________________________________________________\n"
          ]
        }
      ]
    },
    {
      "cell_type": "markdown",
      "source": [
        "### Training"
      ],
      "metadata": {
        "id": "WrkGQn517E44"
      }
    },
    {
      "cell_type": "code",
      "source": [
        "history = cnn_model.fit(train_ds, validation_data=val_ds, epochs=20)"
      ],
      "metadata": {
        "colab": {
          "base_uri": "https://localhost:8080/"
        },
        "id": "DWmK1-up00j-",
        "outputId": "5a219cc1-b102-4d00-d8f7-14070c5b05ce"
      },
      "execution_count": null,
      "outputs": [
        {
          "output_type": "stream",
          "name": "stdout",
          "text": [
            "Epoch 1/20\n",
            "48/48 [==============================] - 7s 103ms/step - loss: 4.5172 - accuracy: 0.7441 - val_loss: 0.2723 - val_accuracy: 0.9009\n",
            "Epoch 2/20\n",
            "48/48 [==============================] - 6s 103ms/step - loss: 0.1502 - accuracy: 0.9491 - val_loss: 0.1119 - val_accuracy: 0.9634\n",
            "Epoch 3/20\n",
            "48/48 [==============================] - 5s 101ms/step - loss: 0.0696 - accuracy: 0.9778 - val_loss: 0.1380 - val_accuracy: 0.9649\n",
            "Epoch 4/20\n",
            "48/48 [==============================] - 5s 97ms/step - loss: 0.0631 - accuracy: 0.9791 - val_loss: 0.1126 - val_accuracy: 0.9680\n",
            "Epoch 5/20\n",
            "48/48 [==============================] - 6s 121ms/step - loss: 0.0175 - accuracy: 0.9948 - val_loss: 0.0577 - val_accuracy: 0.9787\n",
            "Epoch 6/20\n",
            "48/48 [==============================] - 5s 98ms/step - loss: 0.0062 - accuracy: 0.9987 - val_loss: 0.0642 - val_accuracy: 0.9741\n",
            "Epoch 7/20\n",
            "48/48 [==============================] - 7s 142ms/step - loss: 0.0012 - accuracy: 1.0000 - val_loss: 0.0695 - val_accuracy: 0.9771\n",
            "Epoch 8/20\n",
            "48/48 [==============================] - 8s 153ms/step - loss: 5.3250e-04 - accuracy: 1.0000 - val_loss: 0.0722 - val_accuracy: 0.9771\n",
            "Epoch 9/20\n",
            "48/48 [==============================] - 5s 99ms/step - loss: 3.4689e-04 - accuracy: 1.0000 - val_loss: 0.0744 - val_accuracy: 0.9787\n",
            "Epoch 10/20\n",
            "48/48 [==============================] - 7s 129ms/step - loss: 2.6919e-04 - accuracy: 1.0000 - val_loss: 0.0728 - val_accuracy: 0.9771\n",
            "Epoch 11/20\n",
            "48/48 [==============================] - 5s 106ms/step - loss: 2.0705e-04 - accuracy: 1.0000 - val_loss: 0.0715 - val_accuracy: 0.9771\n",
            "Epoch 12/20\n",
            "48/48 [==============================] - 5s 102ms/step - loss: 1.6522e-04 - accuracy: 1.0000 - val_loss: 0.0724 - val_accuracy: 0.9771\n",
            "Epoch 13/20\n",
            "48/48 [==============================] - 5s 98ms/step - loss: 1.4145e-04 - accuracy: 1.0000 - val_loss: 0.0726 - val_accuracy: 0.9771\n",
            "Epoch 14/20\n",
            "48/48 [==============================] - 7s 140ms/step - loss: 1.1893e-04 - accuracy: 1.0000 - val_loss: 0.0751 - val_accuracy: 0.9771\n",
            "Epoch 15/20\n",
            "48/48 [==============================] - 5s 101ms/step - loss: 1.1102e-04 - accuracy: 1.0000 - val_loss: 0.0715 - val_accuracy: 0.9771\n",
            "Epoch 16/20\n",
            "48/48 [==============================] - 5s 101ms/step - loss: 9.4810e-05 - accuracy: 1.0000 - val_loss: 0.0732 - val_accuracy: 0.9771\n",
            "Epoch 17/20\n",
            "48/48 [==============================] - 10s 188ms/step - loss: 7.8100e-05 - accuracy: 1.0000 - val_loss: 0.0713 - val_accuracy: 0.9771\n",
            "Epoch 18/20\n",
            "48/48 [==============================] - 5s 98ms/step - loss: 6.5788e-05 - accuracy: 1.0000 - val_loss: 0.0719 - val_accuracy: 0.9787\n",
            "Epoch 19/20\n",
            "48/48 [==============================] - 7s 129ms/step - loss: 5.8217e-05 - accuracy: 1.0000 - val_loss: 0.0704 - val_accuracy: 0.9787\n",
            "Epoch 20/20\n",
            "48/48 [==============================] - 5s 102ms/step - loss: 5.5150e-05 - accuracy: 1.0000 - val_loss: 0.0711 - val_accuracy: 0.9787\n"
          ]
        }
      ]
    },
    {
      "cell_type": "markdown",
      "source": [
        "1. **Loss:**\n",
        "   - The training loss starts relatively high at epoch 1 but decreases significantly, indicating that the model is learning from the training data.\n",
        "   - The validation loss is low and shows a stable trend, suggesting that the model is performing well on unseen data.\n",
        "\n",
        "2. **Accuracy:**\n",
        "   - The training accuracy starts at a high value and quickly approaches 1.0 (100%), indicating that the model is fitting the training data very well.\n",
        "   - The validation accuracy also starts high and remains stable, suggesting that the model generalizes well to new, unseen data.\n",
        "\n",
        "3. **Observations:**\n",
        "   - Both training and validation metrics show excellent performance, with the model achieving very low loss and high accuracy.\n",
        "   - The model appears to converge well, as indicated by the consistent and high accuracy values on both training and validation sets.\n",
        "\n",
        "4. **Specific Epochs:**\n",
        "   - The model achieves near-perfect accuracy on both training and validation sets, indicating that it has successfully learned the patterns in the data.\n",
        "   - The loss values for both sets continue to decrease, showing the model's ability to minimize errors."
      ],
      "metadata": {
        "id": "MLVp2mT4E_ub"
      }
    },
    {
      "cell_type": "code",
      "source": [
        "plt.figure(figsize=(12, 6))\n",
        "\n",
        "# Plot training & validation accuracy values\n",
        "plt.subplot(1, 2, 1)\n",
        "plt.plot(history.history['accuracy'])\n",
        "plt.plot(history.history['val_accuracy'])\n",
        "plt.title('Model accuracy')\n",
        "plt.xlabel('Epoch')\n",
        "plt.ylabel('Accuracy')\n",
        "plt.legend(['Train', 'Validation'], loc='upper left')\n",
        "\n",
        "# Plot training & validation loss values\n",
        "plt.subplot(1, 2, 2)\n",
        "plt.plot(history.history['loss'])\n",
        "plt.plot(history.history['val_loss'])\n",
        "plt.title('Model loss')\n",
        "plt.xlabel('Epoch')\n",
        "plt.ylabel('Loss')\n",
        "plt.legend(['Train', 'Validation'], loc='upper left')\n",
        "\n",
        "plt.show()"
      ],
      "metadata": {
        "colab": {
          "base_uri": "https://localhost:8080/",
          "height": 573
        },
        "id": "M6hIJbZVs8_f",
        "outputId": "9ece2f0d-2ccc-476f-bc22-d619022b2f33"
      },
      "execution_count": null,
      "outputs": [
        {
          "output_type": "display_data",
          "data": {
            "text/plain": [
              "<Figure size 1200x600 with 2 Axes>"
            ],
            "image/png": "[encoded data removed]"
          },
          "metadata": {}
        }
      ]
    },
    {
      "cell_type": "markdown",
      "source": [
        "## Model choice\n",
        "\n",
        "Among the two models, the convolutional neural network exhibits superior performance, both in terms of validation and train set results. This will be our chosen model for the final solution. However, for testing purposes, we will also include the simple feedforward neural network."
      ],
      "metadata": {
        "id": "qH2aP4TfyWf6"
      }
    },
    {
      "cell_type": "markdown",
      "source": [
        "# Rock-Scissors-Paper Environment"
      ],
      "metadata": {
        "id": "LBeQT8pLomZw"
      }
    },
    {
      "cell_type": "code",
      "source": [
        "class RockPaperScissorsEnv(gym.Env):\n",
        "    '''\n",
        "    Custom Gym environment for a Rock-Paper-Scissors game with images.\n",
        "\n",
        "    This environment simulates a Rock-Paper-Scissors game where the agent\n",
        "    receives images corresponding to Rock, Paper, or Scissors actions and\n",
        "    attempts to \"learn\" optimal strategies based on the rewards associated\n",
        "    with each action-state pair.\n",
        "\n",
        "    Parameters:\n",
        "    - max_episodes (int): Maximum number of episodes for training. Defaults to 300.\n",
        "\n",
        "    Observation Space:\n",
        "    The observation space is a 32x32x3 image representing the current game state.\n",
        "\n",
        "    Action Space:\n",
        "    The action space consists of three discrete actions:\n",
        "    - 0: Paper\n",
        "    - 1: Rock\n",
        "    - 2: Scissors\n",
        "\n",
        "    Rewards:\n",
        "    The reward matrix is predefined as follows:\n",
        "    - Paper vs. Paper: 0, Paper vs. Rock: 1, Paper vs. Scissors: -1\n",
        "    - Rock vs. Paper: -1, Rock vs. Rock: 0, Rock vs. Scissors: 1\n",
        "    - Scissors vs. Paper: 1, Scissors vs. Rock: -1, Scissors vs. Scissors: 0\n",
        "\n",
        "    Methods:\n",
        "    - _get_image(): Generates a random image corresponding to a sampled action.\n",
        "    - reset(seed=None, options=None): Resets the environment to a new episode, returning the preprocessed initial state.\n",
        "    - step(action): Executes the given action, returning the next state, reward, and episode termination information.\n",
        "\n",
        "    Attributes:\n",
        "    - action_space: Discrete space representing the possible actions.\n",
        "    - observation_space: Box space representing the image observation.\n",
        "    - max_episodes: Maximum number of episodes for training.\n",
        "    - total_wins: Total number of wins accumulated across episodes.\n",
        "    - wins: List of rewards obtained in each episode.\n",
        "    - image: Current image representing the game state.\n",
        "    - state: Current state corresponding to the last selected action.\n",
        "    '''\n",
        "\n",
        "    def __init__(self, max_episodes: int = 300) -> None:\n",
        "        super().__init__()\n",
        "\n",
        "        self.reward = np.array([[0, 1, -1],\n",
        "                                [-1, 0, 1],\n",
        "                                [1, -1, 0]])\n",
        "\n",
        "        self.action_space = spaces.Discrete(3)\n",
        "        self.observation_space = spaces.Box(low=0, high=1, shape=(img_width, img_height, img_channels))\n",
        "        self.max_episodes = max_episodes\n",
        "        self.total_wins = 0\n",
        "        self.wins = []\n",
        "        self.image = None\n",
        "        self.state = None\n",
        "\n",
        "    def _get_image(self) -> np.ndarray:\n",
        "        action = self.action_space.sample()\n",
        "        random_image_path = get_image_path(action)\n",
        "        image = keras.utils.load_img(random_image_path)\n",
        "        image_arr = preprocess_image(image)\n",
        "\n",
        "        return image_arr, action\n",
        "\n",
        "    def reset(self, seed=None, options=None) -> np.ndarray:\n",
        "        self.image, self.state = self._get_image()\n",
        "        self.image = random_flip(self.image)\n",
        "        return add_noise(self.image)\n",
        "\n",
        "    def step(self, action: int) -> tuple:\n",
        "        reward = self.reward[action, self.state]\n",
        "        self.wins.append(reward)\n",
        "\n",
        "        if reward > 0:\n",
        "            self.total_wins += 1\n",
        "\n",
        "        next_state = self.image\n",
        "\n",
        "        return self.image, reward"
      ],
      "metadata": {
        "id": "LKjULu_4VDzo"
      },
      "execution_count": null,
      "outputs": []
    },
    {
      "cell_type": "markdown",
      "source": [
        "# Simulation"
      ],
      "metadata": {
        "id": "oGr35k_190Mw"
      }
    },
    {
      "cell_type": "markdown",
      "source": [
        "## Convolutional Neural Network"
      ],
      "metadata": {
        "id": "MCQiisFbtuLU"
      }
    },
    {
      "cell_type": "code",
      "source": [
        "true_labels, predicted_labels, env = start_simulation(cnn_model)"
      ],
      "metadata": {
        "id": "mF8D-fou944c",
        "colab": {
          "base_uri": "https://localhost:8080/"
        },
        "outputId": "8437b088-eabc-4d08-d46b-352d3493db1e"
      },
      "execution_count": null,
      "outputs": [
        {
          "output_type": "stream",
          "name": "stdout",
          "text": [
            "1/1 [==============================] - 0s 21ms/step\n",
            "1/1 [==============================] - 0s 25ms/step\n",
            "1/1 [==============================] - 0s 25ms/step\n",
            "1/1 [==============================] - 0s 41ms/step\n",
            "1/1 [==============================] - 0s 23ms/step\n",
            "1/1 [==============================] - 0s 25ms/step\n",
            "1/1 [==============================] - 0s 22ms/step\n",
            "1/1 [==============================] - 0s 22ms/step\n",
            "1/1 [==============================] - 0s 21ms/step\n",
            "1/1 [==============================] - 0s 21ms/step\n",
            "1/1 [==============================] - 0s 25ms/step\n",
            "1/1 [==============================] - 0s 23ms/step\n",
            "1/1 [==============================] - 0s 23ms/step\n",
            "1/1 [==============================] - 0s 23ms/step\n",
            "1/1 [==============================] - 0s 25ms/step\n",
            "1/1 [==============================] - 0s 22ms/step\n",
            "1/1 [==============================] - 0s 23ms/step\n",
            "1/1 [==============================] - 0s 26ms/step\n",
            "1/1 [==============================] - 0s 26ms/step\n",
            "1/1 [==============================] - 0s 23ms/step\n",
            "1/1 [==============================] - 0s 23ms/step\n",
            "1/1 [==============================] - 0s 40ms/step\n",
            "1/1 [==============================] - 0s 38ms/step\n",
            "1/1 [==============================] - 0s 37ms/step\n",
            "1/1 [==============================] - 0s 33ms/step\n",
            "1/1 [==============================] - 0s 41ms/step\n",
            "1/1 [==============================] - 0s 34ms/step\n",
            "1/1 [==============================] - 0s 32ms/step\n",
            "1/1 [==============================] - 0s 37ms/step\n",
            "1/1 [==============================] - 0s 37ms/step\n",
            "1/1 [==============================] - 0s 36ms/step\n",
            "1/1 [==============================] - 0s 34ms/step\n",
            "1/1 [==============================] - 0s 35ms/step\n",
            "1/1 [==============================] - 0s 31ms/step\n",
            "1/1 [==============================] - 0s 36ms/step\n",
            "1/1 [==============================] - 0s 37ms/step\n",
            "1/1 [==============================] - 0s 21ms/step\n",
            "1/1 [==============================] - 0s 22ms/step\n",
            "1/1 [==============================] - 0s 23ms/step\n",
            "1/1 [==============================] - 0s 33ms/step\n",
            "1/1 [==============================] - 0s 22ms/step\n",
            "1/1 [==============================] - 0s 22ms/step\n",
            "1/1 [==============================] - 0s 22ms/step\n",
            "1/1 [==============================] - 0s 22ms/step\n",
            "1/1 [==============================] - 0s 24ms/step\n",
            "1/1 [==============================] - 0s 23ms/step\n",
            "1/1 [==============================] - 0s 22ms/step\n",
            "1/1 [==============================] - 0s 22ms/step\n",
            "1/1 [==============================] - 0s 23ms/step\n",
            "1/1 [==============================] - 0s 25ms/step\n",
            "1/1 [==============================] - 0s 22ms/step\n",
            "1/1 [==============================] - 0s 21ms/step\n",
            "1/1 [==============================] - 0s 22ms/step\n",
            "1/1 [==============================] - 0s 23ms/step\n",
            "1/1 [==============================] - 0s 21ms/step\n",
            "1/1 [==============================] - 0s 22ms/step\n",
            "1/1 [==============================] - 0s 22ms/step\n",
            "1/1 [==============================] - 0s 22ms/step\n",
            "1/1 [==============================] - 0s 25ms/step\n",
            "1/1 [==============================] - 0s 22ms/step\n",
            "1/1 [==============================] - 0s 22ms/step\n",
            "1/1 [==============================] - 0s 22ms/step\n",
            "1/1 [==============================] - 0s 22ms/step\n",
            "1/1 [==============================] - 0s 22ms/step\n",
            "1/1 [==============================] - 0s 21ms/step\n",
            "1/1 [==============================] - 0s 22ms/step\n",
            "1/1 [==============================] - 0s 25ms/step\n",
            "1/1 [==============================] - 0s 28ms/step\n",
            "1/1 [==============================] - 0s 25ms/step\n",
            "1/1 [==============================] - 0s 24ms/step\n",
            "1/1 [==============================] - 0s 28ms/step\n",
            "1/1 [==============================] - 0s 36ms/step\n",
            "1/1 [==============================] - 0s 22ms/step\n",
            "1/1 [==============================] - 0s 22ms/step\n",
            "1/1 [==============================] - 0s 24ms/step\n",
            "1/1 [==============================] - 0s 21ms/step\n",
            "1/1 [==============================] - 0s 21ms/step\n",
            "1/1 [==============================] - 0s 22ms/step\n",
            "1/1 [==============================] - 0s 21ms/step\n",
            "1/1 [==============================] - 0s 21ms/step\n",
            "1/1 [==============================] - 0s 23ms/step\n",
            "1/1 [==============================] - 0s 23ms/step\n",
            "1/1 [==============================] - 0s 23ms/step\n",
            "1/1 [==============================] - 0s 23ms/step\n",
            "1/1 [==============================] - 0s 25ms/step\n",
            "1/1 [==============================] - 0s 23ms/step\n",
            "1/1 [==============================] - 0s 23ms/step\n",
            "1/1 [==============================] - 0s 22ms/step\n",
            "1/1 [==============================] - 0s 24ms/step\n",
            "1/1 [==============================] - 0s 24ms/step\n",
            "1/1 [==============================] - 0s 22ms/step\n",
            "1/1 [==============================] - 0s 23ms/step\n",
            "1/1 [==============================] - 0s 22ms/step\n",
            "1/1 [==============================] - 0s 22ms/step\n",
            "1/1 [==============================] - 0s 41ms/step\n",
            "1/1 [==============================] - 0s 39ms/step\n",
            "1/1 [==============================] - 0s 38ms/step\n",
            "1/1 [==============================] - 0s 39ms/step\n",
            "1/1 [==============================] - 0s 31ms/step\n",
            "1/1 [==============================] - 0s 32ms/step\n",
            "1/1 [==============================] - 0s 43ms/step\n",
            "1/1 [==============================] - 0s 32ms/step\n",
            "1/1 [==============================] - 0s 33ms/step\n",
            "1/1 [==============================] - 0s 30ms/step\n",
            "1/1 [==============================] - 0s 35ms/step\n",
            "1/1 [==============================] - 0s 37ms/step\n",
            "1/1 [==============================] - 0s 30ms/step\n",
            "1/1 [==============================] - 0s 35ms/step\n",
            "1/1 [==============================] - 0s 39ms/step\n",
            "1/1 [==============================] - 0s 22ms/step\n",
            "1/1 [==============================] - 0s 23ms/step\n",
            "1/1 [==============================] - 0s 21ms/step\n",
            "1/1 [==============================] - 0s 21ms/step\n",
            "1/1 [==============================] - 0s 23ms/step\n",
            "1/1 [==============================] - 0s 23ms/step\n",
            "1/1 [==============================] - 0s 22ms/step\n",
            "1/1 [==============================] - 0s 21ms/step\n",
            "1/1 [==============================] - 0s 22ms/step\n",
            "1/1 [==============================] - 0s 35ms/step\n",
            "1/1 [==============================] - 0s 23ms/step\n",
            "1/1 [==============================] - 0s 22ms/step\n",
            "1/1 [==============================] - 0s 21ms/step\n",
            "1/1 [==============================] - 0s 22ms/step\n",
            "1/1 [==============================] - 0s 22ms/step\n",
            "1/1 [==============================] - 0s 21ms/step\n",
            "1/1 [==============================] - 0s 26ms/step\n",
            "1/1 [==============================] - 0s 23ms/step\n",
            "1/1 [==============================] - 0s 25ms/step\n",
            "1/1 [==============================] - 0s 21ms/step\n",
            "1/1 [==============================] - 0s 24ms/step\n",
            "1/1 [==============================] - 0s 24ms/step\n",
            "1/1 [==============================] - 0s 23ms/step\n",
            "1/1 [==============================] - 0s 33ms/step\n",
            "1/1 [==============================] - 0s 33ms/step\n",
            "1/1 [==============================] - 0s 39ms/step\n",
            "1/1 [==============================] - 0s 41ms/step\n",
            "1/1 [==============================] - 0s 85ms/step\n",
            "1/1 [==============================] - 0s 89ms/step\n",
            "1/1 [==============================] - 0s 153ms/step\n",
            "1/1 [==============================] - 0s 79ms/step\n",
            "1/1 [==============================] - 0s 86ms/step\n",
            "1/1 [==============================] - 0s 49ms/step\n",
            "1/1 [==============================] - 0s 65ms/step\n",
            "1/1 [==============================] - 0s 42ms/step\n",
            "1/1 [==============================] - 0s 96ms/step\n",
            "1/1 [==============================] - 0s 76ms/step\n",
            "1/1 [==============================] - 0s 63ms/step\n",
            "1/1 [==============================] - 0s 60ms/step\n",
            "1/1 [==============================] - 0s 52ms/step\n",
            "1/1 [==============================] - 0s 57ms/step\n",
            "1/1 [==============================] - 0s 73ms/step\n",
            "1/1 [==============================] - 0s 42ms/step\n",
            "1/1 [==============================] - 0s 57ms/step\n",
            "1/1 [==============================] - 0s 46ms/step\n",
            "1/1 [==============================] - 0s 24ms/step\n",
            "1/1 [==============================] - 0s 49ms/step\n",
            "1/1 [==============================] - 0s 43ms/step\n",
            "1/1 [==============================] - 0s 40ms/step\n",
            "1/1 [==============================] - 0s 42ms/step\n",
            "1/1 [==============================] - 0s 49ms/step\n",
            "1/1 [==============================] - 0s 53ms/step\n",
            "1/1 [==============================] - 0s 40ms/step\n",
            "1/1 [==============================] - 0s 39ms/step\n",
            "1/1 [==============================] - 0s 36ms/step\n",
            "1/1 [==============================] - 0s 35ms/step\n",
            "1/1 [==============================] - 0s 37ms/step\n",
            "1/1 [==============================] - 0s 35ms/step\n",
            "1/1 [==============================] - 0s 46ms/step\n",
            "1/1 [==============================] - 0s 35ms/step\n",
            "1/1 [==============================] - 0s 38ms/step\n",
            "1/1 [==============================] - 0s 37ms/step\n",
            "1/1 [==============================] - 0s 38ms/step\n",
            "1/1 [==============================] - 0s 38ms/step\n",
            "1/1 [==============================] - 0s 53ms/step\n",
            "1/1 [==============================] - 0s 42ms/step\n",
            "1/1 [==============================] - 0s 41ms/step\n",
            "1/1 [==============================] - 0s 51ms/step\n",
            "1/1 [==============================] - 0s 51ms/step\n",
            "1/1 [==============================] - 0s 23ms/step\n",
            "1/1 [==============================] - 0s 21ms/step\n",
            "1/1 [==============================] - 0s 26ms/step\n",
            "1/1 [==============================] - 0s 24ms/step\n",
            "1/1 [==============================] - 0s 23ms/step\n",
            "1/1 [==============================] - 0s 23ms/step\n",
            "1/1 [==============================] - 0s 22ms/step\n",
            "1/1 [==============================] - 0s 23ms/step\n",
            "1/1 [==============================] - 0s 22ms/step\n",
            "1/1 [==============================] - 0s 23ms/step\n",
            "1/1 [==============================] - 0s 21ms/step\n",
            "1/1 [==============================] - 0s 22ms/step\n",
            "1/1 [==============================] - 0s 24ms/step\n",
            "1/1 [==============================] - 0s 24ms/step\n",
            "1/1 [==============================] - 0s 23ms/step\n",
            "1/1 [==============================] - 0s 22ms/step\n",
            "1/1 [==============================] - 0s 23ms/step\n",
            "1/1 [==============================] - 0s 22ms/step\n",
            "1/1 [==============================] - 0s 22ms/step\n",
            "1/1 [==============================] - 0s 23ms/step\n",
            "1/1 [==============================] - 0s 23ms/step\n",
            "1/1 [==============================] - 0s 23ms/step\n",
            "1/1 [==============================] - 0s 22ms/step\n",
            "1/1 [==============================] - 0s 22ms/step\n",
            "1/1 [==============================] - 0s 31ms/step\n",
            "1/1 [==============================] - 0s 22ms/step\n",
            "1/1 [==============================] - 0s 22ms/step\n",
            "1/1 [==============================] - 0s 38ms/step\n",
            "1/1 [==============================] - 0s 40ms/step\n",
            "1/1 [==============================] - 0s 36ms/step\n",
            "1/1 [==============================] - 0s 33ms/step\n",
            "1/1 [==============================] - 0s 35ms/step\n",
            "1/1 [==============================] - 0s 41ms/step\n",
            "1/1 [==============================] - 0s 32ms/step\n",
            "1/1 [==============================] - 0s 37ms/step\n",
            "1/1 [==============================] - 0s 39ms/step\n",
            "1/1 [==============================] - 0s 34ms/step\n",
            "1/1 [==============================] - 0s 35ms/step\n",
            "1/1 [==============================] - 0s 41ms/step\n",
            "1/1 [==============================] - 0s 36ms/step\n",
            "1/1 [==============================] - 0s 35ms/step\n",
            "1/1 [==============================] - 0s 33ms/step\n",
            "1/1 [==============================] - 0s 24ms/step\n",
            "1/1 [==============================] - 0s 23ms/step\n",
            "1/1 [==============================] - 0s 22ms/step\n",
            "1/1 [==============================] - 0s 23ms/step\n",
            "1/1 [==============================] - 0s 24ms/step\n",
            "1/1 [==============================] - 0s 26ms/step\n",
            "1/1 [==============================] - 0s 22ms/step\n",
            "1/1 [==============================] - 0s 37ms/step\n",
            "1/1 [==============================] - 0s 24ms/step\n",
            "1/1 [==============================] - 0s 27ms/step\n",
            "1/1 [==============================] - 0s 23ms/step\n",
            "1/1 [==============================] - 0s 23ms/step\n",
            "1/1 [==============================] - 0s 24ms/step\n",
            "1/1 [==============================] - 0s 23ms/step\n",
            "1/1 [==============================] - 0s 24ms/step\n",
            "1/1 [==============================] - 0s 25ms/step\n",
            "1/1 [==============================] - 0s 22ms/step\n",
            "1/1 [==============================] - 0s 22ms/step\n",
            "1/1 [==============================] - 0s 22ms/step\n",
            "1/1 [==============================] - 0s 22ms/step\n",
            "1/1 [==============================] - 0s 23ms/step\n",
            "1/1 [==============================] - 0s 21ms/step\n",
            "1/1 [==============================] - 0s 21ms/step\n",
            "1/1 [==============================] - 0s 22ms/step\n",
            "1/1 [==============================] - 0s 23ms/step\n",
            "1/1 [==============================] - 0s 22ms/step\n",
            "1/1 [==============================] - 0s 22ms/step\n",
            "1/1 [==============================] - 0s 23ms/step\n",
            "1/1 [==============================] - 0s 28ms/step\n",
            "1/1 [==============================] - 0s 24ms/step\n",
            "1/1 [==============================] - 0s 23ms/step\n",
            "1/1 [==============================] - 0s 23ms/step\n",
            "1/1 [==============================] - 0s 23ms/step\n",
            "1/1 [==============================] - 0s 22ms/step\n",
            "1/1 [==============================] - 0s 22ms/step\n",
            "1/1 [==============================] - 0s 23ms/step\n",
            "1/1 [==============================] - 0s 22ms/step\n",
            "1/1 [==============================] - 0s 22ms/step\n",
            "1/1 [==============================] - 0s 25ms/step\n",
            "1/1 [==============================] - 0s 32ms/step\n",
            "1/1 [==============================] - 0s 23ms/step\n",
            "1/1 [==============================] - 0s 23ms/step\n",
            "1/1 [==============================] - 0s 26ms/step\n",
            "1/1 [==============================] - 0s 23ms/step\n",
            "1/1 [==============================] - 0s 22ms/step\n",
            "1/1 [==============================] - 0s 26ms/step\n",
            "1/1 [==============================] - 0s 23ms/step\n",
            "1/1 [==============================] - 0s 22ms/step\n",
            "1/1 [==============================] - 0s 22ms/step\n",
            "1/1 [==============================] - 0s 22ms/step\n",
            "1/1 [==============================] - 0s 24ms/step\n",
            "1/1 [==============================] - 0s 25ms/step\n",
            "1/1 [==============================] - 0s 23ms/step\n",
            "1/1 [==============================] - 0s 23ms/step\n",
            "1/1 [==============================] - 0s 23ms/step\n",
            "1/1 [==============================] - 0s 22ms/step\n",
            "1/1 [==============================] - 0s 22ms/step\n",
            "1/1 [==============================] - 0s 21ms/step\n",
            "1/1 [==============================] - 0s 22ms/step\n",
            "1/1 [==============================] - 0s 21ms/step\n",
            "1/1 [==============================] - 0s 29ms/step\n",
            "1/1 [==============================] - 0s 22ms/step\n",
            "1/1 [==============================] - 0s 23ms/step\n",
            "1/1 [==============================] - 0s 23ms/step\n",
            "1/1 [==============================] - 0s 23ms/step\n",
            "1/1 [==============================] - 0s 23ms/step\n",
            "1/1 [==============================] - 0s 27ms/step\n",
            "1/1 [==============================] - 0s 25ms/step\n",
            "1/1 [==============================] - 0s 25ms/step\n",
            "1/1 [==============================] - 0s 24ms/step\n",
            "1/1 [==============================] - 0s 23ms/step\n",
            "1/1 [==============================] - 0s 22ms/step\n",
            "1/1 [==============================] - 0s 22ms/step\n",
            "1/1 [==============================] - 0s 29ms/step\n",
            "1/1 [==============================] - 0s 22ms/step\n",
            "1/1 [==============================] - 0s 22ms/step\n",
            "1/1 [==============================] - 0s 22ms/step\n",
            "1/1 [==============================] - 0s 24ms/step\n",
            "1/1 [==============================] - 0s 24ms/step\n",
            "1/1 [==============================] - 0s 23ms/step\n"
          ]
        }
      ]
    },
    {
      "cell_type": "markdown",
      "source": [
        "We observe quite accurate predictions from the convolutional neural network, achieving perfect predictions for the rock class. However, it mistakenly classified five images of the paper class as rock, and for the scissors class, it confused two images as paper and three images as rock."
      ],
      "metadata": {
        "id": "fwycHlTM_afx"
      }
    },
    {
      "cell_type": "code",
      "source": [
        "cm = confusion_matrix(true_labels, predicted_labels)\n",
        "sns.heatmap(cm, annot=True, fmt='g', cmap='Blues', xticklabels=train_ds.class_names, yticklabels=train_ds.class_names)\n",
        "plt.xlabel('Predicted')\n",
        "plt.ylabel('True')\n",
        "plt.title('Confusion Matrix')\n",
        "plt.show()"
      ],
      "metadata": {
        "colab": {
          "base_uri": "https://localhost:8080/",
          "height": 480
        },
        "id": "3Lph0_83JjSD",
        "outputId": "409cf1a8-6173-433c-b790-5305755652a8"
      },
      "execution_count": null,
      "outputs": [
        {
          "output_type": "display_data",
          "data": {
            "text/plain": [
              "<Figure size 640x480 with 2 Axes>"
            ],
            "image/png": "[encoded data removed]"
          },
          "metadata": {}
        }
      ]
    },
    {
      "cell_type": "code",
      "source": [
        "plt.plot(np.cumsum(env.wins))\n",
        "plt.xlabel('Episode')\n",
        "plt.ylabel('Total Reward')\n",
        "plt.title('Total Reward per Episodes')\n",
        "plt.show()"
      ],
      "metadata": {
        "colab": {
          "base_uri": "https://localhost:8080/",
          "height": 480
        },
        "id": "F-QkrO58ILoF",
        "outputId": "d862bf8b-79d4-43ac-cb4b-f26d1d1d2a83"
      },
      "execution_count": null,
      "outputs": [
        {
          "output_type": "display_data",
          "data": {
            "text/plain": [
              "<Figure size 640x480 with 1 Axes>"
            ],
            "image/png": "[encoded data removed]"
          },
          "metadata": {}
        }
      ]
    },
    {
      "cell_type": "code",
      "source": [
        "print(f'The model won {env.total_wins} out of {env.max_episodes} episodes')"
      ],
      "metadata": {
        "colab": {
          "base_uri": "https://localhost:8080/"
        },
        "id": "agyhUHdhvm4u",
        "outputId": "5770d041-a070-444e-b56b-c7ec5b8c8df9"
      },
      "execution_count": null,
      "outputs": [
        {
          "output_type": "stream",
          "name": "stdout",
          "text": [
            "The model won 290 out of 300 episodes\n"
          ]
        }
      ]
    },
    {
      "cell_type": "markdown",
      "source": [
        "## Feedforward Neural Network"
      ],
      "metadata": {
        "id": "zOpjoD9yuPOV"
      }
    },
    {
      "cell_type": "code",
      "source": [
        "true_labels, predicted_labels, env = start_simulation(feedforward_model)"
      ],
      "metadata": {
        "colab": {
          "base_uri": "https://localhost:8080/"
        },
        "id": "qrgxaXHGuUId",
        "outputId": "9719733d-edba-4e9d-deab-b80790bb268d"
      },
      "execution_count": null,
      "outputs": [
        {
          "output_type": "stream",
          "name": "stdout",
          "text": [
            "1/1 [==============================] - 0s 65ms/step\n",
            "1/1 [==============================] - 0s 20ms/step\n",
            "1/1 [==============================] - 0s 21ms/step\n",
            "1/1 [==============================] - 0s 21ms/step\n",
            "1/1 [==============================] - 0s 21ms/step\n",
            "1/1 [==============================] - 0s 23ms/step\n",
            "1/1 [==============================] - 0s 33ms/step\n",
            "1/1 [==============================] - 0s 22ms/step\n",
            "1/1 [==============================] - 0s 23ms/step\n",
            "1/1 [==============================] - 0s 21ms/step\n",
            "1/1 [==============================] - 0s 21ms/step\n",
            "1/1 [==============================] - 0s 21ms/step\n",
            "1/1 [==============================] - 0s 21ms/step\n",
            "1/1 [==============================] - 0s 22ms/step\n",
            "1/1 [==============================] - 0s 21ms/step\n",
            "1/1 [==============================] - 0s 22ms/step\n",
            "1/1 [==============================] - 0s 22ms/step\n",
            "1/1 [==============================] - 0s 20ms/step\n",
            "1/1 [==============================] - 0s 21ms/step\n",
            "1/1 [==============================] - 0s 25ms/step\n",
            "1/1 [==============================] - 0s 24ms/step\n",
            "1/1 [==============================] - 0s 22ms/step\n",
            "1/1 [==============================] - 0s 21ms/step\n",
            "1/1 [==============================] - 0s 22ms/step\n",
            "1/1 [==============================] - 0s 21ms/step\n",
            "1/1 [==============================] - 0s 22ms/step\n",
            "1/1 [==============================] - 0s 22ms/step\n",
            "1/1 [==============================] - 0s 25ms/step\n",
            "1/1 [==============================] - 0s 21ms/step\n",
            "1/1 [==============================] - 0s 21ms/step\n",
            "1/1 [==============================] - 0s 20ms/step\n",
            "1/1 [==============================] - 0s 23ms/step\n",
            "1/1 [==============================] - 0s 22ms/step\n",
            "1/1 [==============================] - 0s 21ms/step\n",
            "1/1 [==============================] - 0s 20ms/step\n",
            "1/1 [==============================] - 0s 21ms/step\n",
            "1/1 [==============================] - 0s 23ms/step\n",
            "1/1 [==============================] - 0s 21ms/step\n",
            "1/1 [==============================] - 0s 22ms/step\n",
            "1/1 [==============================] - 0s 21ms/step\n",
            "1/1 [==============================] - 0s 22ms/step\n",
            "1/1 [==============================] - 0s 21ms/step\n",
            "1/1 [==============================] - 0s 21ms/step\n",
            "1/1 [==============================] - 0s 22ms/step\n",
            "1/1 [==============================] - 0s 22ms/step\n",
            "1/1 [==============================] - 0s 21ms/step\n",
            "1/1 [==============================] - 0s 22ms/step\n",
            "1/1 [==============================] - 0s 21ms/step\n",
            "1/1 [==============================] - 0s 23ms/step\n",
            "1/1 [==============================] - 0s 22ms/step\n",
            "1/1 [==============================] - 0s 21ms/step\n",
            "1/1 [==============================] - 0s 23ms/step\n",
            "1/1 [==============================] - 0s 26ms/step\n",
            "1/1 [==============================] - 0s 22ms/step\n",
            "1/1 [==============================] - 0s 21ms/step\n",
            "1/1 [==============================] - 0s 21ms/step\n",
            "1/1 [==============================] - 0s 27ms/step\n",
            "1/1 [==============================] - 0s 21ms/step\n",
            "1/1 [==============================] - 0s 21ms/step\n",
            "1/1 [==============================] - 0s 21ms/step\n",
            "1/1 [==============================] - 0s 22ms/step\n",
            "1/1 [==============================] - 0s 21ms/step\n",
            "1/1 [==============================] - 0s 23ms/step\n",
            "1/1 [==============================] - 0s 23ms/step\n",
            "1/1 [==============================] - 0s 22ms/step\n",
            "1/1 [==============================] - 0s 21ms/step\n",
            "1/1 [==============================] - 0s 22ms/step\n",
            "1/1 [==============================] - 0s 22ms/step\n",
            "1/1 [==============================] - 0s 22ms/step\n",
            "1/1 [==============================] - 0s 23ms/step\n",
            "1/1 [==============================] - 0s 22ms/step\n",
            "1/1 [==============================] - 0s 25ms/step\n",
            "1/1 [==============================] - 0s 22ms/step\n",
            "1/1 [==============================] - 0s 41ms/step\n",
            "1/1 [==============================] - 0s 24ms/step\n",
            "1/1 [==============================] - 0s 26ms/step\n",
            "1/1 [==============================] - 0s 22ms/step\n",
            "1/1 [==============================] - 0s 21ms/step\n",
            "1/1 [==============================] - 0s 21ms/step\n",
            "1/1 [==============================] - 0s 20ms/step\n",
            "1/1 [==============================] - 0s 21ms/step\n",
            "1/1 [==============================] - 0s 21ms/step\n",
            "1/1 [==============================] - 0s 22ms/step\n",
            "1/1 [==============================] - 0s 22ms/step\n",
            "1/1 [==============================] - 0s 37ms/step\n",
            "1/1 [==============================] - 0s 22ms/step\n",
            "1/1 [==============================] - 0s 38ms/step\n",
            "1/1 [==============================] - 0s 32ms/step\n",
            "1/1 [==============================] - 0s 38ms/step\n",
            "1/1 [==============================] - 0s 34ms/step\n",
            "1/1 [==============================] - 0s 34ms/step\n",
            "1/1 [==============================] - 0s 31ms/step\n",
            "1/1 [==============================] - 0s 59ms/step\n",
            "1/1 [==============================] - 0s 33ms/step\n",
            "1/1 [==============================] - 0s 38ms/step\n",
            "1/1 [==============================] - 0s 33ms/step\n",
            "1/1 [==============================] - 0s 34ms/step\n",
            "1/1 [==============================] - 0s 38ms/step\n",
            "1/1 [==============================] - 0s 30ms/step\n",
            "1/1 [==============================] - 0s 37ms/step\n",
            "1/1 [==============================] - 0s 40ms/step\n",
            "1/1 [==============================] - 0s 22ms/step\n",
            "1/1 [==============================] - 0s 21ms/step\n",
            "1/1 [==============================] - 0s 23ms/step\n",
            "1/1 [==============================] - 0s 21ms/step\n",
            "1/1 [==============================] - 0s 22ms/step\n",
            "1/1 [==============================] - 0s 21ms/step\n",
            "1/1 [==============================] - 0s 21ms/step\n",
            "1/1 [==============================] - 0s 25ms/step\n",
            "1/1 [==============================] - 0s 24ms/step\n",
            "1/1 [==============================] - 0s 22ms/step\n",
            "1/1 [==============================] - 0s 21ms/step\n",
            "1/1 [==============================] - 0s 22ms/step\n",
            "1/1 [==============================] - 0s 22ms/step\n",
            "1/1 [==============================] - 0s 23ms/step\n",
            "1/1 [==============================] - 0s 21ms/step\n",
            "1/1 [==============================] - 0s 22ms/step\n",
            "1/1 [==============================] - 0s 22ms/step\n",
            "1/1 [==============================] - 0s 22ms/step\n",
            "1/1 [==============================] - 0s 21ms/step\n",
            "1/1 [==============================] - 0s 22ms/step\n",
            "1/1 [==============================] - 0s 24ms/step\n",
            "1/1 [==============================] - 0s 21ms/step\n",
            "1/1 [==============================] - 0s 21ms/step\n",
            "1/1 [==============================] - 0s 22ms/step\n",
            "1/1 [==============================] - 0s 21ms/step\n",
            "1/1 [==============================] - 0s 22ms/step\n",
            "1/1 [==============================] - 0s 21ms/step\n",
            "1/1 [==============================] - 0s 22ms/step\n",
            "1/1 [==============================] - 0s 24ms/step\n",
            "1/1 [==============================] - 0s 20ms/step\n",
            "1/1 [==============================] - 0s 34ms/step\n",
            "1/1 [==============================] - 0s 21ms/step\n",
            "1/1 [==============================] - 0s 22ms/step\n",
            "1/1 [==============================] - 0s 21ms/step\n",
            "1/1 [==============================] - 0s 22ms/step\n",
            "1/1 [==============================] - 0s 22ms/step\n",
            "1/1 [==============================] - 0s 24ms/step\n",
            "1/1 [==============================] - 0s 22ms/step\n",
            "1/1 [==============================] - 0s 21ms/step\n",
            "1/1 [==============================] - 0s 22ms/step\n",
            "1/1 [==============================] - 0s 25ms/step\n",
            "1/1 [==============================] - 0s 26ms/step\n",
            "1/1 [==============================] - 0s 21ms/step\n",
            "1/1 [==============================] - 0s 21ms/step\n",
            "1/1 [==============================] - 0s 21ms/step\n",
            "1/1 [==============================] - 0s 22ms/step\n",
            "1/1 [==============================] - 0s 20ms/step\n",
            "1/1 [==============================] - 0s 21ms/step\n",
            "1/1 [==============================] - 0s 22ms/step\n",
            "1/1 [==============================] - 0s 27ms/step\n",
            "1/1 [==============================] - 0s 21ms/step\n",
            "1/1 [==============================] - 0s 22ms/step\n",
            "1/1 [==============================] - 0s 24ms/step\n",
            "1/1 [==============================] - 0s 22ms/step\n",
            "1/1 [==============================] - 0s 22ms/step\n",
            "1/1 [==============================] - 0s 22ms/step\n",
            "1/1 [==============================] - 0s 22ms/step\n",
            "1/1 [==============================] - 0s 22ms/step\n",
            "1/1 [==============================] - 0s 26ms/step\n",
            "1/1 [==============================] - 0s 23ms/step\n",
            "1/1 [==============================] - 0s 22ms/step\n",
            "1/1 [==============================] - 0s 21ms/step\n",
            "1/1 [==============================] - 0s 20ms/step\n",
            "1/1 [==============================] - 0s 22ms/step\n",
            "1/1 [==============================] - 0s 21ms/step\n",
            "1/1 [==============================] - 0s 25ms/step\n",
            "1/1 [==============================] - 0s 21ms/step\n",
            "1/1 [==============================] - 0s 23ms/step\n",
            "1/1 [==============================] - 0s 22ms/step\n",
            "1/1 [==============================] - 0s 21ms/step\n",
            "1/1 [==============================] - 0s 22ms/step\n",
            "1/1 [==============================] - 0s 23ms/step\n",
            "1/1 [==============================] - 0s 25ms/step\n",
            "1/1 [==============================] - 0s 33ms/step\n",
            "1/1 [==============================] - 0s 20ms/step\n",
            "1/1 [==============================] - 0s 24ms/step\n",
            "1/1 [==============================] - 0s 24ms/step\n",
            "1/1 [==============================] - 0s 21ms/step\n",
            "1/1 [==============================] - 0s 22ms/step\n",
            "1/1 [==============================] - 0s 23ms/step\n",
            "1/1 [==============================] - 0s 27ms/step\n",
            "1/1 [==============================] - 0s 21ms/step\n",
            "1/1 [==============================] - 0s 22ms/step\n",
            "1/1 [==============================] - 0s 22ms/step\n",
            "1/1 [==============================] - 0s 22ms/step\n",
            "1/1 [==============================] - 0s 21ms/step\n",
            "1/1 [==============================] - 0s 21ms/step\n",
            "1/1 [==============================] - 0s 24ms/step\n",
            "1/1 [==============================] - 0s 22ms/step\n",
            "1/1 [==============================] - 0s 22ms/step\n",
            "1/1 [==============================] - 0s 23ms/step\n",
            "1/1 [==============================] - 0s 24ms/step\n",
            "1/1 [==============================] - 0s 22ms/step\n",
            "1/1 [==============================] - 0s 21ms/step\n",
            "1/1 [==============================] - 0s 22ms/step\n",
            "1/1 [==============================] - 0s 24ms/step\n",
            "1/1 [==============================] - 0s 22ms/step\n",
            "1/1 [==============================] - 0s 21ms/step\n",
            "1/1 [==============================] - 0s 23ms/step\n",
            "1/1 [==============================] - 0s 23ms/step\n",
            "1/1 [==============================] - 0s 22ms/step\n",
            "1/1 [==============================] - 0s 22ms/step\n",
            "1/1 [==============================] - 0s 24ms/step\n",
            "1/1 [==============================] - 0s 29ms/step\n",
            "1/1 [==============================] - 0s 34ms/step\n",
            "1/1 [==============================] - 0s 32ms/step\n",
            "1/1 [==============================] - 0s 35ms/step\n",
            "1/1 [==============================] - 0s 34ms/step\n",
            "1/1 [==============================] - 0s 34ms/step\n",
            "1/1 [==============================] - 0s 34ms/step\n",
            "1/1 [==============================] - 0s 31ms/step\n",
            "1/1 [==============================] - 0s 33ms/step\n",
            "1/1 [==============================] - 0s 43ms/step\n",
            "1/1 [==============================] - 0s 30ms/step\n",
            "1/1 [==============================] - 0s 28ms/step\n",
            "1/1 [==============================] - 0s 43ms/step\n",
            "1/1 [==============================] - 0s 29ms/step\n",
            "1/1 [==============================] - 0s 36ms/step\n",
            "1/1 [==============================] - 0s 34ms/step\n",
            "1/1 [==============================] - 0s 22ms/step\n",
            "1/1 [==============================] - 0s 25ms/step\n",
            "1/1 [==============================] - 0s 22ms/step\n",
            "1/1 [==============================] - 0s 26ms/step\n",
            "1/1 [==============================] - 0s 23ms/step\n",
            "1/1 [==============================] - 0s 21ms/step\n",
            "1/1 [==============================] - 0s 22ms/step\n",
            "1/1 [==============================] - 0s 21ms/step\n",
            "1/1 [==============================] - 0s 22ms/step\n",
            "1/1 [==============================] - 0s 22ms/step\n",
            "1/1 [==============================] - 0s 21ms/step\n",
            "1/1 [==============================] - 0s 22ms/step\n",
            "1/1 [==============================] - 0s 21ms/step\n",
            "1/1 [==============================] - 0s 22ms/step\n",
            "1/1 [==============================] - 0s 21ms/step\n",
            "1/1 [==============================] - 0s 23ms/step\n",
            "1/1 [==============================] - 0s 24ms/step\n",
            "1/1 [==============================] - 0s 24ms/step\n",
            "1/1 [==============================] - 0s 22ms/step\n",
            "1/1 [==============================] - 0s 22ms/step\n",
            "1/1 [==============================] - 0s 22ms/step\n",
            "1/1 [==============================] - 0s 22ms/step\n",
            "1/1 [==============================] - 0s 23ms/step\n",
            "1/1 [==============================] - 0s 22ms/step\n",
            "1/1 [==============================] - 0s 22ms/step\n",
            "1/1 [==============================] - 0s 23ms/step\n",
            "1/1 [==============================] - 0s 25ms/step\n",
            "1/1 [==============================] - 0s 20ms/step\n",
            "1/1 [==============================] - 0s 23ms/step\n",
            "1/1 [==============================] - 0s 22ms/step\n",
            "1/1 [==============================] - 0s 22ms/step\n",
            "1/1 [==============================] - 0s 22ms/step\n",
            "1/1 [==============================] - 0s 23ms/step\n",
            "1/1 [==============================] - 0s 35ms/step\n",
            "1/1 [==============================] - 0s 21ms/step\n",
            "1/1 [==============================] - 0s 21ms/step\n",
            "1/1 [==============================] - 0s 22ms/step\n",
            "1/1 [==============================] - 0s 26ms/step\n",
            "1/1 [==============================] - 0s 22ms/step\n",
            "1/1 [==============================] - 0s 23ms/step\n",
            "1/1 [==============================] - 0s 23ms/step\n",
            "1/1 [==============================] - 0s 23ms/step\n",
            "1/1 [==============================] - 0s 21ms/step\n",
            "1/1 [==============================] - 0s 20ms/step\n",
            "1/1 [==============================] - 0s 31ms/step\n",
            "1/1 [==============================] - 0s 24ms/step\n",
            "1/1 [==============================] - 0s 22ms/step\n",
            "1/1 [==============================] - 0s 22ms/step\n",
            "1/1 [==============================] - 0s 22ms/step\n",
            "1/1 [==============================] - 0s 22ms/step\n",
            "1/1 [==============================] - 0s 22ms/step\n",
            "1/1 [==============================] - 0s 22ms/step\n",
            "1/1 [==============================] - 0s 27ms/step\n",
            "1/1 [==============================] - 0s 22ms/step\n",
            "1/1 [==============================] - 0s 21ms/step\n",
            "1/1 [==============================] - 0s 21ms/step\n",
            "1/1 [==============================] - 0s 23ms/step\n",
            "1/1 [==============================] - 0s 22ms/step\n",
            "1/1 [==============================] - 0s 26ms/step\n",
            "1/1 [==============================] - 0s 21ms/step\n",
            "1/1 [==============================] - 0s 23ms/step\n",
            "1/1 [==============================] - 0s 23ms/step\n",
            "1/1 [==============================] - 0s 22ms/step\n",
            "1/1 [==============================] - 0s 24ms/step\n",
            "1/1 [==============================] - 0s 24ms/step\n",
            "1/1 [==============================] - 0s 36ms/step\n",
            "1/1 [==============================] - 0s 24ms/step\n",
            "1/1 [==============================] - 0s 24ms/step\n",
            "1/1 [==============================] - 0s 25ms/step\n",
            "1/1 [==============================] - 0s 22ms/step\n",
            "1/1 [==============================] - 0s 23ms/step\n",
            "1/1 [==============================] - 0s 26ms/step\n",
            "1/1 [==============================] - 0s 22ms/step\n",
            "1/1 [==============================] - 0s 26ms/step\n",
            "1/1 [==============================] - 0s 21ms/step\n",
            "1/1 [==============================] - 0s 21ms/step\n",
            "1/1 [==============================] - 0s 22ms/step\n",
            "1/1 [==============================] - 0s 23ms/step\n",
            "1/1 [==============================] - 0s 22ms/step\n",
            "1/1 [==============================] - 0s 22ms/step\n"
          ]
        }
      ]
    },
    {
      "cell_type": "markdown",
      "source": [
        "The feedforward model performed slightly less accurately than the convolutional model, but overall, it still achieved commendable results. Notably, for the paper class, it misclassified 5 images as stone and 23 as scissors. For the rock class, it confused 2 images as paper and 6 as scissors. Finally, for the scissors class, it misclassified 1 image as paper and 1 as rock."
      ],
      "metadata": {
        "id": "PyeB6geICLLh"
      }
    },
    {
      "cell_type": "code",
      "source": [
        "cm = confusion_matrix(true_labels, predicted_labels)\n",
        "sns.heatmap(cm, annot=True, fmt='g', cmap='Blues', xticklabels=train_ds.class_names, yticklabels=train_ds.class_names)\n",
        "plt.xlabel('Predicted')\n",
        "plt.ylabel('True')\n",
        "plt.title('Confusion Matrix')\n",
        "plt.show()"
      ],
      "metadata": {
        "colab": {
          "base_uri": "https://localhost:8080/",
          "height": 480
        },
        "id": "5hD3ReMFuZl1",
        "outputId": "a91c30f4-32a3-4247-cef7-13be4a306327"
      },
      "execution_count": null,
      "outputs": [
        {
          "output_type": "display_data",
          "data": {
            "text/plain": [
              "<Figure size 640x480 with 2 Axes>"
            ],
            "image/png": "[encoded data removed]"
          },
          "metadata": {}
        }
      ]
    },
    {
      "cell_type": "code",
      "source": [
        "plt.plot(np.cumsum(env.wins))\n",
        "plt.xlabel('Episode')\n",
        "plt.ylabel('Total Reward')\n",
        "plt.title('Total Reward per Episodes')\n",
        "plt.show()"
      ],
      "metadata": {
        "colab": {
          "base_uri": "https://localhost:8080/",
          "height": 480
        },
        "id": "wvjGchVNubRi",
        "outputId": "595e5796-e023-4579-edde-ac79834013c4"
      },
      "execution_count": null,
      "outputs": [
        {
          "output_type": "display_data",
          "data": {
            "text/plain": [
              "<Figure size 640x480 with 1 Axes>"
            ],
            "image/png": "[encoded data removed]"
          },
          "metadata": {}
        }
      ]
    },
    {
      "cell_type": "code",
      "source": [
        "print(f'The model won {env.total_wins} out of {env.max_episodes} episodes')"
      ],
      "metadata": {
        "colab": {
          "base_uri": "https://localhost:8080/"
        },
        "id": "pFaMt6CauegF",
        "outputId": "e615a2bd-33d7-4354-a81b-e554cbfa8b07"
      },
      "execution_count": null,
      "outputs": [
        {
          "output_type": "stream",
          "name": "stdout",
          "text": [
            "The model won 262 out of 300 episodes\n"
          ]
        }
      ]
    },
    {
      "cell_type": "markdown",
      "source": [
        "# Extra Testing\n",
        "\n",
        "Test the models on an image that is not present in the dataset to evaluate their generalization performance."
      ],
      "metadata": {
        "id": "XECSr7kuJ44R"
      }
    },
    {
      "cell_type": "code",
      "source": [
        "uploaded = files.upload()\n",
        "image_name = list(uploaded.keys())[0]"
      ],
      "metadata": {
        "colab": {
          "base_uri": "https://localhost:8080/",
          "height": 73
        },
        "id": "vBeip3nGKKCS",
        "outputId": "0d843053-e99e-4e7a-d4e4-c46a594e4b9d"
      },
      "execution_count": null,
      "outputs": [
        {
          "output_type": "display_data",
          "data": {
            "text/plain": [
              "<IPython.core.display.HTML object>"
            ],
            "text/html": [
              "\n",
              "     <input type=\"file\" id=\"files-4ec7dc79-dfb2-43de-a620-41220cba8e79\" name=\"files[]\" multiple disabled\n",
              "        style=\"border:none\" />\n",
              "     <output id=\"result-4ec7dc79-dfb2-43de-a620-41220cba8e79\">\n",
              "      Upload widget is only available when the cell has been executed in the\n",
              "      current browser session. Please rerun this cell to enable.\n",
              "      </output>\n",
              "      <script>// Copyright 2017 Google LLC\n",
              "//\n",
              "// Licensed under the Apache License, Version 2.0 (the \"License\");\n",
              "// you may not use this file except in compliance with the License.\n",
              "// You may obtain a copy of the License at\n",
              "//\n",
              "//      http://www.apache.org/licenses/LICENSE-2.0\n",
              "//\n",
              "// Unless required by applicable law or agreed to in writing, software\n",
              "// distributed under the License is distributed on an \"AS IS\" BASIS,\n",
              "// WITHOUT WARRANTIES OR CONDITIONS OF ANY KIND, either express or implied.\n",
              "// See the License for the specific language governing permissions and\n",
              "// limitations under the License.\n",
              "\n",
              "/**\n",
              " * @fileoverview Helpers for google.colab Python module.\n",
              " */\n",
              "(function(scope) {\n",
              "function span(text, styleAttributes = {}) {\n",
              "  const element = document.createElement('span');\n",
              "  element.textContent = text;\n",
              "  for (const key of Object.keys(styleAttributes)) {\n",
              "    element.style[key] = styleAttributes[key];\n",
              "  }\n",
              "  return element;\n",
              "}\n",
              "\n",
              "// Max number of bytes which will be uploaded at a time.\n",
              "const MAX_PAYLOAD_SIZE = 100 * 1024;\n",
              "\n",
              "function _uploadFiles(inputId, outputId) {\n",
              "  const steps = uploadFilesStep(inputId, outputId);\n",
              "  const outputElement = document.getElementById(outputId);\n",
              "  // Cache steps on the outputElement to make it available for the next call\n",
              "  // to uploadFilesContinue from Python.\n",
              "  outputElement.steps = steps;\n",
              "\n",
              "  return _uploadFilesContinue(outputId);\n",
              "}\n",
              "\n",
              "// This is roughly an async generator (not supported in the browser yet),\n",
              "// where there are multiple asynchronous steps and the Python side is going\n",
              "// to poll for completion of each step.\n",
              "// This uses a Promise to block the python side on completion of each step,\n",
              "// then passes the result of the previous step as the input to the next step.\n",
              "function _uploadFilesContinue(outputId) {\n",
              "  const outputElement = document.getElementById(outputId);\n",
              "  const steps = outputElement.steps;\n",
              "\n",
              "  const next = steps.next(outputElement.lastPromiseValue);\n",
              "  return Promise.resolve(next.value.promise).then((value) => {\n",
              "    // Cache the last promise value to make it available to the next\n",
              "    // step of the generator.\n",
              "    outputElement.lastPromiseValue = value;\n",
              "    return next.value.response;\n",
              "  });\n",
              "}\n",
              "\n",
              "/**\n",
              " * Generator function which is called between each async step of the upload\n",
              " * process.\n",
              " * @param {string} inputId Element ID of the input file picker element.\n",
              " * @param {string} outputId Element ID of the output display.\n",
              " * @return {!Iterable<!Object>} Iterable of next steps.\n",
              " */\n",
              "function* uploadFilesStep(inputId, outputId) {\n",
              "  const inputElement = document.getElementById(inputId);\n",
              "  inputElement.disabled = false;\n",
              "\n",
              "  const outputElement = document.getElementById(outputId);\n",
              "  outputElement.innerHTML = '';\n",
              "\n",
              "  const pickedPromise = new Promise((resolve) => {\n",
              "    inputElement.addEventListener('change', (e) => {\n",
              "      resolve(e.target.files);\n",
              "    });\n",
              "  });\n",
              "\n",
              "  const cancel = document.createElement('button');\n",
              "  inputElement.parentElement.appendChild(cancel);\n",
              "  cancel.textContent = 'Cancel upload';\n",
              "  const cancelPromise = new Promise((resolve) => {\n",
              "    cancel.onclick = () => {\n",
              "      resolve(null);\n",
              "    };\n",
              "  });\n",
              "\n",
              "  // Wait for the user to pick the files.\n",
              "  const files = yield {\n",
              "    promise: Promise.race([pickedPromise, cancelPromise]),\n",
              "    response: {\n",
              "      action: 'starting',\n",
              "    }\n",
              "  };\n",
              "\n",
              "  cancel.remove();\n",
              "\n",
              "  // Disable the input element since further picks are not allowed.\n",
              "  inputElement.disabled = true;\n",
              "\n",
              "  if (!files) {\n",
              "    return {\n",
              "      response: {\n",
              "        action: 'complete',\n",
              "      }\n",
              "    };\n",
              "  }\n",
              "\n",
              "  for (const file of files) {\n",
              "    const li = document.createElement('li');\n",
              "    li.append(span(file.name, {fontWeight: 'bold'}));\n",
              "    li.append(span(\n",
              "        `(${file.type || 'n/a'}) - ${file.size} bytes, ` +\n",
              "        `last modified: ${\n",
              "            file.lastModifiedDate ? file.lastModifiedDate.toLocaleDateString() :\n",
              "                                    'n/a'} - `));\n",
              "    const percent = span('0% done');\n",
              "    li.appendChild(percent);\n",
              "\n",
              "    outputElement.appendChild(li);\n",
              "\n",
              "    const fileDataPromise = new Promise((resolve) => {\n",
              "      const reader = new FileReader();\n",
              "      reader.onload = (e) => {\n",
              "        resolve(e.target.result);\n",
              "      };\n",
              "      reader.readAsArrayBuffer(file);\n",
              "    });\n",
              "    // Wait for the data to be ready.\n",
              "    let fileData = yield {\n",
              "      promise: fileDataPromise,\n",
              "      response: {\n",
              "        action: 'continue',\n",
              "      }\n",
              "    };\n",
              "\n",
              "    // Use a chunked sending to avoid message size limits. See b/62115660.\n",
              "    let position = 0;\n",
              "    do {\n",
              "      const length = Math.min(fileData.byteLength - position, MAX_PAYLOAD_SIZE);\n",
              "      const chunk = new Uint8Array(fileData, position, length);\n",
              "      position += length;\n",
              "\n",
              "      const base64 = btoa(String.fromCharCode.apply(null, chunk));\n",
              "      yield {\n",
              "        response: {\n",
              "          action: 'append',\n",
              "          file: file.name,\n",
              "          data: base64,\n",
              "        },\n",
              "      };\n",
              "\n",
              "      let percentDone = fileData.byteLength === 0 ?\n",
              "          100 :\n",
              "          Math.round((position / fileData.byteLength) * 100);\n",
              "      percent.textContent = `${percentDone}% done`;\n",
              "\n",
              "    } while (position < fileData.byteLength);\n",
              "  }\n",
              "\n",
              "  // All done.\n",
              "  yield {\n",
              "    response: {\n",
              "      action: 'complete',\n",
              "    }\n",
              "  };\n",
              "}\n",
              "\n",
              "scope.google = scope.google || {};\n",
              "scope.google.colab = scope.google.colab || {};\n",
              "scope.google.colab._files = {\n",
              "  _uploadFiles,\n",
              "  _uploadFilesContinue,\n",
              "};\n",
              "})(self);\n",
              "</script> "
            ]
          },
          "metadata": {}
        },
        {
          "output_type": "stream",
          "name": "stdout",
          "text": [
            "Saving test.png to test.png\n"
          ]
        }
      ]
    },
    {
      "cell_type": "code",
      "source": [
        "image = keras.utils.load_img(image_name)\n",
        "image_arr = preprocess_image(image)"
      ],
      "metadata": {
        "id": "_EJ1vOriQlVX"
      },
      "execution_count": null,
      "outputs": []
    },
    {
      "cell_type": "code",
      "source": [
        "action = cnn_model.predict(image_arr)\n",
        "action_idx = action.argmax()\n",
        "\n",
        "print(f'The CNN model predicted: {train_ds.class_names[action_idx]}')\n",
        "print(f'The CNN model\\'s optimal move: {train_ds.class_names[cnn_model.best_actions[action_idx]]}')"
      ],
      "metadata": {
        "colab": {
          "base_uri": "https://localhost:8080/"
        },
        "id": "tWLUkE-MT4pw",
        "outputId": "d6fb3741-33e9-4b2c-962d-0a47b98bd28c"
      },
      "execution_count": null,
      "outputs": [
        {
          "output_type": "stream",
          "name": "stdout",
          "text": [
            "1/1 [==============================] - 0s 49ms/step\n",
            "The CNN model predicted: paper\n",
            "The CNN model's optimal move: scissors\n"
          ]
        }
      ]
    },
    {
      "cell_type": "code",
      "source": [
        "action = feedforward_model.predict(image_arr)\n",
        "action_idx = action.argmax()\n",
        "\n",
        "print(f'The Feedforward model predicted: {train_ds.class_names[action_idx]}')\n",
        "print(f'The Feedforward model\\'s optimal move: {train_ds.class_names[feedforward_model.best_actions[action_idx]]}')"
      ],
      "metadata": {
        "colab": {
          "base_uri": "https://localhost:8080/"
        },
        "id": "mXdnEJK57qdb",
        "outputId": "b05cb186-dc62-4a27-c481-5310b9c88838"
      },
      "execution_count": null,
      "outputs": [
        {
          "output_type": "stream",
          "name": "stdout",
          "text": [
            "1/1 [==============================] - 0s 23ms/step\n",
            "The Feedforward model predicted: scissors\n",
            "The Feedforward model's optimal move: rock\n"
          ]
        }
      ]
    },
    {
      "cell_type": "markdown",
      "source": [
        "We observe that the feedforward model successfully predicted the image and selected the optimal action, whereas the convolutional neural network did not, despite performing better in the simulation."
      ],
      "metadata": {
        "id": "ZbK7eDZt9-qS"
      }
    }
  ]
}